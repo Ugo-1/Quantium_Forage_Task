{
 "cells": [
  {
   "cell_type": "markdown",
   "id": "f858361d",
   "metadata": {},
   "source": [
    "# Importing Libraries"
   ]
  },
  {
   "cell_type": "code",
   "execution_count": 72,
   "id": "bcf4533e",
   "metadata": {},
   "outputs": [],
   "source": [
    "import numpy as np\n",
    "import pandas as pd\n",
    "import datetime\n",
    "import matplotlib.pyplot as plt\n",
    "import seaborn as sns\n",
    "import scipy.stats as stats\n",
    "\n",
    "%matplotlib inline"
   ]
  },
  {
   "cell_type": "markdown",
   "id": "c74fce97",
   "metadata": {},
   "source": [
    "# Reading in the data"
   ]
  },
  {
   "cell_type": "code",
   "execution_count": 73,
   "id": "44fe0ba0",
   "metadata": {},
   "outputs": [],
   "source": [
    "data = pd.read_csv('QVI_data.csv')"
   ]
  },
  {
   "cell_type": "code",
   "execution_count": 74,
   "id": "b78e4d7e",
   "metadata": {},
   "outputs": [],
   "source": [
    "data['DATE'] = pd.to_datetime(data['DATE'])"
   ]
  },
  {
   "cell_type": "code",
   "execution_count": 75,
   "id": "b0d3ed67",
   "metadata": {},
   "outputs": [],
   "source": [
    "data['MONTH_ID'] = data['DATE'].dt.strftime('%Y%m')"
   ]
  },
  {
   "cell_type": "code",
   "execution_count": 76,
   "id": "323df98f",
   "metadata": {},
   "outputs": [
    {
     "data": {
      "text/html": [
       "<div>\n",
       "<style scoped>\n",
       "    .dataframe tbody tr th:only-of-type {\n",
       "        vertical-align: middle;\n",
       "    }\n",
       "\n",
       "    .dataframe tbody tr th {\n",
       "        vertical-align: top;\n",
       "    }\n",
       "\n",
       "    .dataframe thead th {\n",
       "        text-align: right;\n",
       "    }\n",
       "</style>\n",
       "<table border=\"1\" class=\"dataframe\">\n",
       "  <thead>\n",
       "    <tr style=\"text-align: right;\">\n",
       "      <th></th>\n",
       "      <th>LYLTY_CARD_NBR</th>\n",
       "      <th>DATE</th>\n",
       "      <th>STORE_NBR</th>\n",
       "      <th>TXN_ID</th>\n",
       "      <th>PROD_NBR</th>\n",
       "      <th>PROD_NAME</th>\n",
       "      <th>PROD_QTY</th>\n",
       "      <th>TOT_SALES</th>\n",
       "      <th>PACK_SIZE</th>\n",
       "      <th>BRAND</th>\n",
       "      <th>LIFESTAGE</th>\n",
       "      <th>PREMIUM_CUSTOMER</th>\n",
       "      <th>MONTH_ID</th>\n",
       "    </tr>\n",
       "  </thead>\n",
       "  <tbody>\n",
       "    <tr>\n",
       "      <th>0</th>\n",
       "      <td>1000</td>\n",
       "      <td>2018-10-17</td>\n",
       "      <td>1</td>\n",
       "      <td>1</td>\n",
       "      <td>5</td>\n",
       "      <td>Natural Chip        Compny SeaSalt175g</td>\n",
       "      <td>2</td>\n",
       "      <td>6.0</td>\n",
       "      <td>175</td>\n",
       "      <td>NATURAL</td>\n",
       "      <td>YOUNG SINGLES/COUPLES</td>\n",
       "      <td>Premium</td>\n",
       "      <td>201810</td>\n",
       "    </tr>\n",
       "    <tr>\n",
       "      <th>1</th>\n",
       "      <td>1002</td>\n",
       "      <td>2018-09-16</td>\n",
       "      <td>1</td>\n",
       "      <td>2</td>\n",
       "      <td>58</td>\n",
       "      <td>Red Rock Deli Chikn&amp;Garlic Aioli 150g</td>\n",
       "      <td>1</td>\n",
       "      <td>2.7</td>\n",
       "      <td>150</td>\n",
       "      <td>RRD</td>\n",
       "      <td>YOUNG SINGLES/COUPLES</td>\n",
       "      <td>Mainstream</td>\n",
       "      <td>201809</td>\n",
       "    </tr>\n",
       "    <tr>\n",
       "      <th>2</th>\n",
       "      <td>1003</td>\n",
       "      <td>2019-03-07</td>\n",
       "      <td>1</td>\n",
       "      <td>3</td>\n",
       "      <td>52</td>\n",
       "      <td>Grain Waves Sour    Cream&amp;Chives 210G</td>\n",
       "      <td>1</td>\n",
       "      <td>3.6</td>\n",
       "      <td>210</td>\n",
       "      <td>GRNWVES</td>\n",
       "      <td>YOUNG FAMILIES</td>\n",
       "      <td>Budget</td>\n",
       "      <td>201903</td>\n",
       "    </tr>\n",
       "    <tr>\n",
       "      <th>3</th>\n",
       "      <td>1003</td>\n",
       "      <td>2019-03-08</td>\n",
       "      <td>1</td>\n",
       "      <td>4</td>\n",
       "      <td>106</td>\n",
       "      <td>Natural ChipCo      Hony Soy Chckn175g</td>\n",
       "      <td>1</td>\n",
       "      <td>3.0</td>\n",
       "      <td>175</td>\n",
       "      <td>NATURAL</td>\n",
       "      <td>YOUNG FAMILIES</td>\n",
       "      <td>Budget</td>\n",
       "      <td>201903</td>\n",
       "    </tr>\n",
       "    <tr>\n",
       "      <th>4</th>\n",
       "      <td>1004</td>\n",
       "      <td>2018-11-02</td>\n",
       "      <td>1</td>\n",
       "      <td>5</td>\n",
       "      <td>96</td>\n",
       "      <td>WW Original Stacked Chips 160g</td>\n",
       "      <td>1</td>\n",
       "      <td>1.9</td>\n",
       "      <td>160</td>\n",
       "      <td>WOOLWORTHS</td>\n",
       "      <td>OLDER SINGLES/COUPLES</td>\n",
       "      <td>Mainstream</td>\n",
       "      <td>201811</td>\n",
       "    </tr>\n",
       "  </tbody>\n",
       "</table>\n",
       "</div>"
      ],
      "text/plain": [
       "   LYLTY_CARD_NBR       DATE  STORE_NBR  TXN_ID  PROD_NBR  \\\n",
       "0            1000 2018-10-17          1       1         5   \n",
       "1            1002 2018-09-16          1       2        58   \n",
       "2            1003 2019-03-07          1       3        52   \n",
       "3            1003 2019-03-08          1       4       106   \n",
       "4            1004 2018-11-02          1       5        96   \n",
       "\n",
       "                                PROD_NAME  PROD_QTY  TOT_SALES  PACK_SIZE  \\\n",
       "0  Natural Chip        Compny SeaSalt175g         2        6.0        175   \n",
       "1   Red Rock Deli Chikn&Garlic Aioli 150g         1        2.7        150   \n",
       "2   Grain Waves Sour    Cream&Chives 210G         1        3.6        210   \n",
       "3  Natural ChipCo      Hony Soy Chckn175g         1        3.0        175   \n",
       "4          WW Original Stacked Chips 160g         1        1.9        160   \n",
       "\n",
       "        BRAND              LIFESTAGE PREMIUM_CUSTOMER MONTH_ID  \n",
       "0     NATURAL  YOUNG SINGLES/COUPLES          Premium   201810  \n",
       "1         RRD  YOUNG SINGLES/COUPLES       Mainstream   201809  \n",
       "2     GRNWVES         YOUNG FAMILIES           Budget   201903  \n",
       "3     NATURAL         YOUNG FAMILIES           Budget   201903  \n",
       "4  WOOLWORTHS  OLDER SINGLES/COUPLES       Mainstream   201811  "
      ]
     },
     "execution_count": 76,
     "metadata": {},
     "output_type": "execute_result"
    }
   ],
   "source": [
    "data.head()"
   ]
  },
  {
   "cell_type": "code",
   "execution_count": 77,
   "id": "b6b68529",
   "metadata": {},
   "outputs": [
    {
     "name": "stdout",
     "output_type": "stream",
     "text": [
      "<class 'pandas.core.frame.DataFrame'>\n",
      "RangeIndex: 264834 entries, 0 to 264833\n",
      "Data columns (total 13 columns):\n",
      " #   Column            Non-Null Count   Dtype         \n",
      "---  ------            --------------   -----         \n",
      " 0   LYLTY_CARD_NBR    264834 non-null  int64         \n",
      " 1   DATE              264834 non-null  datetime64[ns]\n",
      " 2   STORE_NBR         264834 non-null  int64         \n",
      " 3   TXN_ID            264834 non-null  int64         \n",
      " 4   PROD_NBR          264834 non-null  int64         \n",
      " 5   PROD_NAME         264834 non-null  object        \n",
      " 6   PROD_QTY          264834 non-null  int64         \n",
      " 7   TOT_SALES         264834 non-null  float64       \n",
      " 8   PACK_SIZE         264834 non-null  int64         \n",
      " 9   BRAND             264834 non-null  object        \n",
      " 10  LIFESTAGE         264834 non-null  object        \n",
      " 11  PREMIUM_CUSTOMER  264834 non-null  object        \n",
      " 12  MONTH_ID          264834 non-null  object        \n",
      "dtypes: datetime64[ns](1), float64(1), int64(6), object(5)\n",
      "memory usage: 26.3+ MB\n"
     ]
    }
   ],
   "source": [
    "data.info()"
   ]
  },
  {
   "cell_type": "markdown",
   "id": "efb5b718",
   "metadata": {},
   "source": [
    "# Creation of measure calculations used in analysis"
   ]
  },
  {
   "cell_type": "code",
   "execution_count": 78,
   "id": "6c23ca1e",
   "metadata": {},
   "outputs": [],
   "source": [
    "met = data.groupby(['STORE_NBR', 'MONTH_ID']).agg({\n",
    "    'TOT_SALES':'sum',\n",
    "    'LYLTY_CARD_NBR': 'nunique',\n",
    "    'TXN_ID':'nunique',\n",
    "    'PROD_QTY':'sum'\n",
    "})\n",
    "\n",
    "met.rename(columns={'LYLTY_CARD_NBR':'nCustomer'}, inplace=True)\n",
    "met['TxnPerCust'] = round(met['TXN_ID']/met['nCustomer'], 2)\n",
    "met['ChpPerTxn'] = round(met['PROD_QTY']/met['TXN_ID'], 2)\n",
    "met['avgPrcPerUnt'] = round(met['TOT_SALES']/met['PROD_QTY'], 2)\n",
    "\n",
    "met.drop(columns='TXN_ID', inplace=True)"
   ]
  },
  {
   "cell_type": "code",
   "execution_count": 79,
   "id": "eaf7654b",
   "metadata": {},
   "outputs": [
    {
     "data": {
      "text/html": [
       "<div>\n",
       "<style scoped>\n",
       "    .dataframe tbody tr th:only-of-type {\n",
       "        vertical-align: middle;\n",
       "    }\n",
       "\n",
       "    .dataframe tbody tr th {\n",
       "        vertical-align: top;\n",
       "    }\n",
       "\n",
       "    .dataframe thead th {\n",
       "        text-align: right;\n",
       "    }\n",
       "</style>\n",
       "<table border=\"1\" class=\"dataframe\">\n",
       "  <thead>\n",
       "    <tr style=\"text-align: right;\">\n",
       "      <th></th>\n",
       "      <th></th>\n",
       "      <th>TOT_SALES</th>\n",
       "      <th>nCustomer</th>\n",
       "      <th>PROD_QTY</th>\n",
       "      <th>TxnPerCust</th>\n",
       "      <th>ChpPerTxn</th>\n",
       "      <th>avgPrcPerUnt</th>\n",
       "    </tr>\n",
       "    <tr>\n",
       "      <th>STORE_NBR</th>\n",
       "      <th>MONTH_ID</th>\n",
       "      <th></th>\n",
       "      <th></th>\n",
       "      <th></th>\n",
       "      <th></th>\n",
       "      <th></th>\n",
       "      <th></th>\n",
       "    </tr>\n",
       "  </thead>\n",
       "  <tbody>\n",
       "    <tr>\n",
       "      <th rowspan=\"5\" valign=\"top\">1</th>\n",
       "      <th>201807</th>\n",
       "      <td>206.9</td>\n",
       "      <td>49</td>\n",
       "      <td>62</td>\n",
       "      <td>1.06</td>\n",
       "      <td>1.19</td>\n",
       "      <td>3.34</td>\n",
       "    </tr>\n",
       "    <tr>\n",
       "      <th>201808</th>\n",
       "      <td>176.1</td>\n",
       "      <td>42</td>\n",
       "      <td>54</td>\n",
       "      <td>1.02</td>\n",
       "      <td>1.26</td>\n",
       "      <td>3.26</td>\n",
       "    </tr>\n",
       "    <tr>\n",
       "      <th>201809</th>\n",
       "      <td>278.8</td>\n",
       "      <td>59</td>\n",
       "      <td>75</td>\n",
       "      <td>1.05</td>\n",
       "      <td>1.21</td>\n",
       "      <td>3.72</td>\n",
       "    </tr>\n",
       "    <tr>\n",
       "      <th>201810</th>\n",
       "      <td>188.1</td>\n",
       "      <td>44</td>\n",
       "      <td>58</td>\n",
       "      <td>1.02</td>\n",
       "      <td>1.29</td>\n",
       "      <td>3.24</td>\n",
       "    </tr>\n",
       "    <tr>\n",
       "      <th>201811</th>\n",
       "      <td>192.6</td>\n",
       "      <td>46</td>\n",
       "      <td>57</td>\n",
       "      <td>1.02</td>\n",
       "      <td>1.21</td>\n",
       "      <td>3.38</td>\n",
       "    </tr>\n",
       "  </tbody>\n",
       "</table>\n",
       "</div>"
      ],
      "text/plain": [
       "                    TOT_SALES  nCustomer  PROD_QTY  TxnPerCust  ChpPerTxn  \\\n",
       "STORE_NBR MONTH_ID                                                          \n",
       "1         201807        206.9         49        62        1.06       1.19   \n",
       "          201808        176.1         42        54        1.02       1.26   \n",
       "          201809        278.8         59        75        1.05       1.21   \n",
       "          201810        188.1         44        58        1.02       1.29   \n",
       "          201811        192.6         46        57        1.02       1.21   \n",
       "\n",
       "                    avgPrcPerUnt  \n",
       "STORE_NBR MONTH_ID                \n",
       "1         201807            3.34  \n",
       "          201808            3.26  \n",
       "          201809            3.72  \n",
       "          201810            3.24  \n",
       "          201811            3.38  "
      ]
     },
     "execution_count": 79,
     "metadata": {},
     "output_type": "execute_result"
    }
   ],
   "source": [
    "met.head()"
   ]
  },
  {
   "cell_type": "code",
   "execution_count": 80,
   "id": "a9105351",
   "metadata": {},
   "outputs": [
    {
     "name": "stdout",
     "output_type": "stream",
     "text": [
      "<class 'pandas.core.frame.DataFrame'>\n",
      "MultiIndex: 3169 entries, (1, '201807') to (272, '201906')\n",
      "Data columns (total 6 columns):\n",
      " #   Column        Non-Null Count  Dtype  \n",
      "---  ------        --------------  -----  \n",
      " 0   TOT_SALES     3169 non-null   float64\n",
      " 1   nCustomer     3169 non-null   int64  \n",
      " 2   PROD_QTY      3169 non-null   int64  \n",
      " 3   TxnPerCust    3169 non-null   float64\n",
      " 4   ChpPerTxn     3169 non-null   float64\n",
      " 5   avgPrcPerUnt  3169 non-null   float64\n",
      "dtypes: float64(4), int64(2)\n",
      "memory usage: 160.2+ KB\n"
     ]
    }
   ],
   "source": [
    "met.info()"
   ]
  },
  {
   "cell_type": "markdown",
   "id": "63905f29",
   "metadata": {},
   "source": [
    "# Filter out records with incomplete number of observations i.e stores with less than 12 Months recorded"
   ]
  },
  {
   "cell_type": "code",
   "execution_count": 81,
   "id": "405b06c3",
   "metadata": {},
   "outputs": [
    {
     "data": {
      "text/plain": [
       "STORE_NBR\n",
       "11      2\n",
       "31      2\n",
       "44     11\n",
       "76      1\n",
       "85      1\n",
       "92      1\n",
       "117    11\n",
       "193     3\n",
       "206     2\n",
       "211     2\n",
       "218    11\n",
       "252     2\n",
       "Name: MONTH_ID, dtype: int64"
      ]
     },
     "execution_count": 81,
     "metadata": {},
     "output_type": "execute_result"
    }
   ],
   "source": [
    "met.reset_index(inplace=True)\n",
    "\n",
    "m = met.groupby('STORE_NBR')['MONTH_ID'].count()\n",
    "m = m[(m < 12) == True]\n",
    "\n",
    "m"
   ]
  },
  {
   "cell_type": "code",
   "execution_count": 82,
   "id": "83483370",
   "metadata": {},
   "outputs": [],
   "source": [
    "full = met.set_index(['STORE_NBR', 'MONTH_ID'])\n",
    "full.drop(index=m.index, level=0, inplace=True)"
   ]
  },
  {
   "cell_type": "code",
   "execution_count": 83,
   "id": "1ad583b3",
   "metadata": {},
   "outputs": [
    {
     "data": {
      "text/html": [
       "<div>\n",
       "<style scoped>\n",
       "    .dataframe tbody tr th:only-of-type {\n",
       "        vertical-align: middle;\n",
       "    }\n",
       "\n",
       "    .dataframe tbody tr th {\n",
       "        vertical-align: top;\n",
       "    }\n",
       "\n",
       "    .dataframe thead th {\n",
       "        text-align: right;\n",
       "    }\n",
       "</style>\n",
       "<table border=\"1\" class=\"dataframe\">\n",
       "  <thead>\n",
       "    <tr style=\"text-align: right;\">\n",
       "      <th></th>\n",
       "      <th></th>\n",
       "      <th>TOT_SALES</th>\n",
       "      <th>nCustomer</th>\n",
       "      <th>PROD_QTY</th>\n",
       "      <th>TxnPerCust</th>\n",
       "      <th>ChpPerTxn</th>\n",
       "      <th>avgPrcPerUnt</th>\n",
       "    </tr>\n",
       "    <tr>\n",
       "      <th>STORE_NBR</th>\n",
       "      <th>MONTH_ID</th>\n",
       "      <th></th>\n",
       "      <th></th>\n",
       "      <th></th>\n",
       "      <th></th>\n",
       "      <th></th>\n",
       "      <th></th>\n",
       "    </tr>\n",
       "  </thead>\n",
       "  <tbody>\n",
       "    <tr>\n",
       "      <th rowspan=\"5\" valign=\"top\">1</th>\n",
       "      <th>201807</th>\n",
       "      <td>206.9</td>\n",
       "      <td>49</td>\n",
       "      <td>62</td>\n",
       "      <td>1.06</td>\n",
       "      <td>1.19</td>\n",
       "      <td>3.34</td>\n",
       "    </tr>\n",
       "    <tr>\n",
       "      <th>201808</th>\n",
       "      <td>176.1</td>\n",
       "      <td>42</td>\n",
       "      <td>54</td>\n",
       "      <td>1.02</td>\n",
       "      <td>1.26</td>\n",
       "      <td>3.26</td>\n",
       "    </tr>\n",
       "    <tr>\n",
       "      <th>201809</th>\n",
       "      <td>278.8</td>\n",
       "      <td>59</td>\n",
       "      <td>75</td>\n",
       "      <td>1.05</td>\n",
       "      <td>1.21</td>\n",
       "      <td>3.72</td>\n",
       "    </tr>\n",
       "    <tr>\n",
       "      <th>201810</th>\n",
       "      <td>188.1</td>\n",
       "      <td>44</td>\n",
       "      <td>58</td>\n",
       "      <td>1.02</td>\n",
       "      <td>1.29</td>\n",
       "      <td>3.24</td>\n",
       "    </tr>\n",
       "    <tr>\n",
       "      <th>201811</th>\n",
       "      <td>192.6</td>\n",
       "      <td>46</td>\n",
       "      <td>57</td>\n",
       "      <td>1.02</td>\n",
       "      <td>1.21</td>\n",
       "      <td>3.38</td>\n",
       "    </tr>\n",
       "  </tbody>\n",
       "</table>\n",
       "</div>"
      ],
      "text/plain": [
       "                    TOT_SALES  nCustomer  PROD_QTY  TxnPerCust  ChpPerTxn  \\\n",
       "STORE_NBR MONTH_ID                                                          \n",
       "1         201807        206.9         49        62        1.06       1.19   \n",
       "          201808        176.1         42        54        1.02       1.26   \n",
       "          201809        278.8         59        75        1.05       1.21   \n",
       "          201810        188.1         44        58        1.02       1.29   \n",
       "          201811        192.6         46        57        1.02       1.21   \n",
       "\n",
       "                    avgPrcPerUnt  \n",
       "STORE_NBR MONTH_ID                \n",
       "1         201807            3.34  \n",
       "          201808            3.26  \n",
       "          201809            3.72  \n",
       "          201810            3.24  \n",
       "          201811            3.38  "
      ]
     },
     "execution_count": 83,
     "metadata": {},
     "output_type": "execute_result"
    }
   ],
   "source": [
    "full.head()"
   ]
  },
  {
   "cell_type": "markdown",
   "id": "c4580a0f",
   "metadata": {},
   "source": [
    "# Filtering out months before the trial period"
   ]
  },
  {
   "cell_type": "code",
   "execution_count": 84,
   "id": "89309497",
   "metadata": {},
   "outputs": [],
   "source": [
    "pretrial = []\n",
    "\n",
    "for i in full.index:\n",
    "    if i[1] < '201902':\n",
    "        pretrial.append(full.loc[i])\n",
    "        \n",
    "pretrial = pd.DataFrame(pretrial)"
   ]
  },
  {
   "cell_type": "code",
   "execution_count": 85,
   "id": "4e4acfea",
   "metadata": {},
   "outputs": [
    {
     "data": {
      "text/html": [
       "<div>\n",
       "<style scoped>\n",
       "    .dataframe tbody tr th:only-of-type {\n",
       "        vertical-align: middle;\n",
       "    }\n",
       "\n",
       "    .dataframe tbody tr th {\n",
       "        vertical-align: top;\n",
       "    }\n",
       "\n",
       "    .dataframe thead th {\n",
       "        text-align: right;\n",
       "    }\n",
       "</style>\n",
       "<table border=\"1\" class=\"dataframe\">\n",
       "  <thead>\n",
       "    <tr style=\"text-align: right;\">\n",
       "      <th></th>\n",
       "      <th></th>\n",
       "      <th>TOT_SALES</th>\n",
       "      <th>nCustomer</th>\n",
       "      <th>PROD_QTY</th>\n",
       "      <th>TxnPerCust</th>\n",
       "      <th>ChpPerTxn</th>\n",
       "      <th>avgPrcPerUnt</th>\n",
       "    </tr>\n",
       "    <tr>\n",
       "      <th>STORE_NBR</th>\n",
       "      <th>YEAR_MONTH</th>\n",
       "      <th></th>\n",
       "      <th></th>\n",
       "      <th></th>\n",
       "      <th></th>\n",
       "      <th></th>\n",
       "      <th></th>\n",
       "    </tr>\n",
       "  </thead>\n",
       "  <tbody>\n",
       "    <tr>\n",
       "      <th rowspan=\"5\" valign=\"top\">1</th>\n",
       "      <th>201807</th>\n",
       "      <td>206.9</td>\n",
       "      <td>49.0</td>\n",
       "      <td>62.0</td>\n",
       "      <td>1.06</td>\n",
       "      <td>1.19</td>\n",
       "      <td>3.34</td>\n",
       "    </tr>\n",
       "    <tr>\n",
       "      <th>201808</th>\n",
       "      <td>176.1</td>\n",
       "      <td>42.0</td>\n",
       "      <td>54.0</td>\n",
       "      <td>1.02</td>\n",
       "      <td>1.26</td>\n",
       "      <td>3.26</td>\n",
       "    </tr>\n",
       "    <tr>\n",
       "      <th>201809</th>\n",
       "      <td>278.8</td>\n",
       "      <td>59.0</td>\n",
       "      <td>75.0</td>\n",
       "      <td>1.05</td>\n",
       "      <td>1.21</td>\n",
       "      <td>3.72</td>\n",
       "    </tr>\n",
       "    <tr>\n",
       "      <th>201810</th>\n",
       "      <td>188.1</td>\n",
       "      <td>44.0</td>\n",
       "      <td>58.0</td>\n",
       "      <td>1.02</td>\n",
       "      <td>1.29</td>\n",
       "      <td>3.24</td>\n",
       "    </tr>\n",
       "    <tr>\n",
       "      <th>201811</th>\n",
       "      <td>192.6</td>\n",
       "      <td>46.0</td>\n",
       "      <td>57.0</td>\n",
       "      <td>1.02</td>\n",
       "      <td>1.21</td>\n",
       "      <td>3.38</td>\n",
       "    </tr>\n",
       "    <tr>\n",
       "      <th>...</th>\n",
       "      <th>...</th>\n",
       "      <td>...</td>\n",
       "      <td>...</td>\n",
       "      <td>...</td>\n",
       "      <td>...</td>\n",
       "      <td>...</td>\n",
       "      <td>...</td>\n",
       "    </tr>\n",
       "    <tr>\n",
       "      <th rowspan=\"5\" valign=\"top\">272</th>\n",
       "      <th>201809</th>\n",
       "      <td>304.7</td>\n",
       "      <td>32.0</td>\n",
       "      <td>71.0</td>\n",
       "      <td>1.12</td>\n",
       "      <td>1.97</td>\n",
       "      <td>4.29</td>\n",
       "    </tr>\n",
       "    <tr>\n",
       "      <th>201810</th>\n",
       "      <td>430.6</td>\n",
       "      <td>44.0</td>\n",
       "      <td>99.0</td>\n",
       "      <td>1.14</td>\n",
       "      <td>1.98</td>\n",
       "      <td>4.35</td>\n",
       "    </tr>\n",
       "    <tr>\n",
       "      <th>201811</th>\n",
       "      <td>376.2</td>\n",
       "      <td>41.0</td>\n",
       "      <td>87.0</td>\n",
       "      <td>1.10</td>\n",
       "      <td>1.93</td>\n",
       "      <td>4.32</td>\n",
       "    </tr>\n",
       "    <tr>\n",
       "      <th>201812</th>\n",
       "      <td>403.9</td>\n",
       "      <td>47.0</td>\n",
       "      <td>89.0</td>\n",
       "      <td>1.00</td>\n",
       "      <td>1.89</td>\n",
       "      <td>4.54</td>\n",
       "    </tr>\n",
       "    <tr>\n",
       "      <th>201901</th>\n",
       "      <td>423.0</td>\n",
       "      <td>46.0</td>\n",
       "      <td>96.0</td>\n",
       "      <td>1.09</td>\n",
       "      <td>1.92</td>\n",
       "      <td>4.41</td>\n",
       "    </tr>\n",
       "  </tbody>\n",
       "</table>\n",
       "<p>1820 rows × 6 columns</p>\n",
       "</div>"
      ],
      "text/plain": [
       "                      TOT_SALES  nCustomer  PROD_QTY  TxnPerCust  ChpPerTxn  \\\n",
       "STORE_NBR YEAR_MONTH                                                          \n",
       "1         201807          206.9       49.0      62.0        1.06       1.19   \n",
       "          201808          176.1       42.0      54.0        1.02       1.26   \n",
       "          201809          278.8       59.0      75.0        1.05       1.21   \n",
       "          201810          188.1       44.0      58.0        1.02       1.29   \n",
       "          201811          192.6       46.0      57.0        1.02       1.21   \n",
       "...                         ...        ...       ...         ...        ...   \n",
       "272       201809          304.7       32.0      71.0        1.12       1.97   \n",
       "          201810          430.6       44.0      99.0        1.14       1.98   \n",
       "          201811          376.2       41.0      87.0        1.10       1.93   \n",
       "          201812          403.9       47.0      89.0        1.00       1.89   \n",
       "          201901          423.0       46.0      96.0        1.09       1.92   \n",
       "\n",
       "                      avgPrcPerUnt  \n",
       "STORE_NBR YEAR_MONTH                \n",
       "1         201807              3.34  \n",
       "          201808              3.26  \n",
       "          201809              3.72  \n",
       "          201810              3.24  \n",
       "          201811              3.38  \n",
       "...                            ...  \n",
       "272       201809              4.29  \n",
       "          201810              4.35  \n",
       "          201811              4.32  \n",
       "          201812              4.54  \n",
       "          201901              4.41  \n",
       "\n",
       "[1820 rows x 6 columns]"
      ]
     },
     "execution_count": 85,
     "metadata": {},
     "output_type": "execute_result"
    }
   ],
   "source": [
    "pretrial.index.rename(['STORE_NBR', 'YEAR_MONTH'], inplace=True)\n",
    "pretrial"
   ]
  },
  {
   "cell_type": "code",
   "execution_count": 86,
   "id": "4ff93d2c",
   "metadata": {},
   "outputs": [],
   "source": [
    "rpretrial = pretrial.reset_index()"
   ]
  },
  {
   "cell_type": "markdown",
   "id": "0a32a8be",
   "metadata": {},
   "source": [
    "# Creating functions to calculate correlation and standardised magnitude distance between trial stores and potential stores"
   ]
  },
  {
   "cell_type": "code",
   "execution_count": 87,
   "id": "e5e9e3a2",
   "metadata": {},
   "outputs": [],
   "source": [
    "def calCor(table, metricCol, store):\n",
    "    '''\n",
    "    Calculate the correlation between a trial store and a control store\n",
    "    '''\n",
    "    cor = pd.DataFrame()\n",
    "    for i in rpretrial['STORE_NBR'].unique():\n",
    "        cor = pd.concat([cor, pd.DataFrame({\n",
    "            'Store 1': [store],\n",
    "            'Store 2': [i],\n",
    "            'corrMeasure': [table.loc[table['STORE_NBR'] == store, metricCol].reset_index(\n",
    "                drop=True).corr(table.loc[table['STORE_NBR'] == i, metricCol].reset_index(drop=True))] \n",
    "        })])\n",
    "    return cor.reset_index(drop=True)"
   ]
  },
  {
   "cell_type": "code",
   "execution_count": 88,
   "id": "1c8676b3",
   "metadata": {},
   "outputs": [],
   "source": [
    "def calcMag(table, store, msure):\n",
    "    '''\n",
    "    Calculate a standardised magnitude distance for a measure\n",
    "    '''\n",
    "    calcMsure = pd.DataFrame()\n",
    "    measure = pd.DataFrame()\n",
    "    for b in rpretrial['STORE_NBR'].unique():\n",
    "            measure = pd.concat([measure, abs(table[table['STORE_NBR'] == store][[msure]].reset_index(\n",
    "                drop=True) - table[table['STORE_NBR'] == b][[msure]].reset_index(drop=True))], ignore_index=True)\n",
    "            calcMsure = pd.concat([calcMsure, pd.DataFrame({\n",
    "                'Store 1': [store],\n",
    "                'Store 2': [b]},\n",
    "                index = table[table['STORE_NBR'] == store]['YEAR_MONTH'].values).reset_index()], ignore_index=True)\n",
    "    \n",
    "    calcMsure = calcMsure.join(measure)\n",
    "    calcMsure.rename(columns = {'index':'YearMonth', msure:'Measure'}, inplace=True)\n",
    "\n",
    "    minMaxDist = calcMsure.groupby(['Store 1', 'YearMonth']).agg({\n",
    "        'Measure':['min', 'max']\n",
    "    })\n",
    "    distTable = calcMsure.merge(minMaxDist, how = 'left', on = ['Store 1', 'YearMonth'])\n",
    "    distTable.rename(columns={distTable.iloc[:,4].name: 'Min', distTable.iloc[:,5].name:'Max'}, inplace=True)\n",
    "    distTable['magnitudeMeasure'] = 1 - (distTable['Measure']-distTable['Min'])/(distTable['Max']-distTable['Min'])\n",
    "    \n",
    "    finaldistTable = distTable.groupby(['Store 1', 'Store 2']).agg({\n",
    "        'magnitudeMeasure':'mean'\n",
    "    })    \n",
    "    \n",
    "    return finaldistTable.reset_index()"
   ]
  },
  {
   "cell_type": "markdown",
   "id": "a78349f1",
   "metadata": {},
   "source": [
    "# Trial Store 77"
   ]
  },
  {
   "cell_type": "markdown",
   "id": "ef1e7f21",
   "metadata": {},
   "source": [
    "## Analysis"
   ]
  },
  {
   "cell_type": "code",
   "execution_count": 89,
   "id": "280b41d0",
   "metadata": {},
   "outputs": [],
   "source": [
    "corr_nSales = calCor(rpretrial,'TOT_SALES', 77)\n",
    "corr_nCustomers = calCor(rpretrial,'nCustomer', 77)"
   ]
  },
  {
   "cell_type": "code",
   "execution_count": 90,
   "id": "db54d580",
   "metadata": {},
   "outputs": [
    {
     "name": "stderr",
     "output_type": "stream",
     "text": [
      "C:\\Users\\queency\\anaconda3\\lib\\site-packages\\pandas\\core\\frame.py:9186: FutureWarning: merging between different levels is deprecated and will be removed in a future version. (1 levels on the left,2 on the right)\n",
      "  return merge(\n"
     ]
    }
   ],
   "source": [
    "magnitude_nSales = calcMag(rpretrial, 77, 'TOT_SALES')\n",
    "magnitude_nCustomer = calcMag(rpretrial, 77, 'nCustomer')"
   ]
  },
  {
   "cell_type": "code",
   "execution_count": 91,
   "id": "dc6070cc",
   "metadata": {},
   "outputs": [],
   "source": [
    "score_nSales = corr_nSales.merge(magnitude_nSales)\n",
    "score_nSales = score_nSales.assign(\n",
    "    score_NSales = lambda x : (0.5 * x.corrMeasure) + (0.5 * x.magnitudeMeasure))\n",
    "score_nSales.drop(columns = ['corrMeasure', 'magnitudeMeasure'], inplace = True)\n",
    "\n",
    "score_nCustomer = corr_nCustomers.merge(magnitude_nCustomer)\n",
    "score_nCustomer = score_nCustomer.assign(\n",
    "    score_NCustomer = lambda x : (0.5 * x.corrMeasure) + (0.5 * x.magnitudeMeasure))\n",
    "score_nCustomer.drop(columns = ['corrMeasure', 'magnitudeMeasure'], inplace = True)"
   ]
  },
  {
   "cell_type": "code",
   "execution_count": 92,
   "id": "825ee425",
   "metadata": {},
   "outputs": [],
   "source": [
    "score_control = score_nSales.merge(score_nCustomer, on = ['Store 1', 'Store 2'])\n",
    "score_control['Final_score'] = (0.5 * score_control.score_NSales) + (\n",
    "    0.5 * score_control.score_NCustomer)"
   ]
  },
  {
   "cell_type": "code",
   "execution_count": 93,
   "id": "2f4c2e59",
   "metadata": {},
   "outputs": [
    {
     "data": {
      "text/html": [
       "<div>\n",
       "<style scoped>\n",
       "    .dataframe tbody tr th:only-of-type {\n",
       "        vertical-align: middle;\n",
       "    }\n",
       "\n",
       "    .dataframe tbody tr th {\n",
       "        vertical-align: top;\n",
       "    }\n",
       "\n",
       "    .dataframe thead th {\n",
       "        text-align: right;\n",
       "    }\n",
       "</style>\n",
       "<table border=\"1\" class=\"dataframe\">\n",
       "  <thead>\n",
       "    <tr style=\"text-align: right;\">\n",
       "      <th></th>\n",
       "      <th>Store 1</th>\n",
       "      <th>Store 2</th>\n",
       "      <th>score_NSales</th>\n",
       "      <th>score_NCustomer</th>\n",
       "      <th>Final_score</th>\n",
       "    </tr>\n",
       "  </thead>\n",
       "  <tbody>\n",
       "    <tr>\n",
       "      <th>72</th>\n",
       "      <td>77</td>\n",
       "      <td>77</td>\n",
       "      <td>1.000000</td>\n",
       "      <td>1.000000</td>\n",
       "      <td>1.000000</td>\n",
       "    </tr>\n",
       "    <tr>\n",
       "      <th>221</th>\n",
       "      <td>77</td>\n",
       "      <td>233</td>\n",
       "      <td>0.944520</td>\n",
       "      <td>0.991566</td>\n",
       "      <td>0.968043</td>\n",
       "    </tr>\n",
       "    <tr>\n",
       "      <th>38</th>\n",
       "      <td>77</td>\n",
       "      <td>41</td>\n",
       "      <td>0.874186</td>\n",
       "      <td>0.909429</td>\n",
       "      <td>0.891808</td>\n",
       "    </tr>\n",
       "    <tr>\n",
       "      <th>15</th>\n",
       "      <td>77</td>\n",
       "      <td>17</td>\n",
       "      <td>0.861678</td>\n",
       "      <td>0.854902</td>\n",
       "      <td>0.858290</td>\n",
       "    </tr>\n",
       "    <tr>\n",
       "      <th>241</th>\n",
       "      <td>77</td>\n",
       "      <td>254</td>\n",
       "      <td>0.749940</td>\n",
       "      <td>0.926670</td>\n",
       "      <td>0.838305</td>\n",
       "    </tr>\n",
       "    <tr>\n",
       "      <th>...</th>\n",
       "      <td>...</td>\n",
       "      <td>...</td>\n",
       "      <td>...</td>\n",
       "      <td>...</td>\n",
       "      <td>...</td>\n",
       "    </tr>\n",
       "    <tr>\n",
       "      <th>51</th>\n",
       "      <td>77</td>\n",
       "      <td>55</td>\n",
       "      <td>-0.098702</td>\n",
       "      <td>-0.007868</td>\n",
       "      <td>-0.053285</td>\n",
       "    </tr>\n",
       "    <tr>\n",
       "      <th>130</th>\n",
       "      <td>77</td>\n",
       "      <td>138</td>\n",
       "      <td>-0.046919</td>\n",
       "      <td>-0.073702</td>\n",
       "      <td>-0.060310</td>\n",
       "    </tr>\n",
       "    <tr>\n",
       "      <th>235</th>\n",
       "      <td>77</td>\n",
       "      <td>247</td>\n",
       "      <td>-0.052334</td>\n",
       "      <td>-0.096585</td>\n",
       "      <td>-0.074460</td>\n",
       "    </tr>\n",
       "    <tr>\n",
       "      <th>95</th>\n",
       "      <td>77</td>\n",
       "      <td>102</td>\n",
       "      <td>-0.031145</td>\n",
       "      <td>-0.127841</td>\n",
       "      <td>-0.079493</td>\n",
       "    </tr>\n",
       "    <tr>\n",
       "      <th>71</th>\n",
       "      <td>77</td>\n",
       "      <td>75</td>\n",
       "      <td>-0.250282</td>\n",
       "      <td>-0.127343</td>\n",
       "      <td>-0.188812</td>\n",
       "    </tr>\n",
       "  </tbody>\n",
       "</table>\n",
       "<p>260 rows × 5 columns</p>\n",
       "</div>"
      ],
      "text/plain": [
       "     Store 1  Store 2  score_NSales  score_NCustomer  Final_score\n",
       "72        77       77      1.000000         1.000000     1.000000\n",
       "221       77      233      0.944520         0.991566     0.968043\n",
       "38        77       41      0.874186         0.909429     0.891808\n",
       "15        77       17      0.861678         0.854902     0.858290\n",
       "241       77      254      0.749940         0.926670     0.838305\n",
       "..       ...      ...           ...              ...          ...\n",
       "51        77       55     -0.098702        -0.007868    -0.053285\n",
       "130       77      138     -0.046919        -0.073702    -0.060310\n",
       "235       77      247     -0.052334        -0.096585    -0.074460\n",
       "95        77      102     -0.031145        -0.127841    -0.079493\n",
       "71        77       75     -0.250282        -0.127343    -0.188812\n",
       "\n",
       "[260 rows x 5 columns]"
      ]
     },
     "execution_count": 93,
     "metadata": {},
     "output_type": "execute_result"
    }
   ],
   "source": [
    "score_control.sort_values('Final_score', ascending=False)"
   ]
  },
  {
   "cell_type": "markdown",
   "id": "c5a70d26",
   "metadata": {},
   "source": [
    "It is observed that store 233 is closest in terms of scores to store 77. Hence it'd be used as the control store for store 77"
   ]
  },
  {
   "cell_type": "code",
   "execution_count": 94,
   "id": "68167ad8",
   "metadata": {},
   "outputs": [],
   "source": [
    "def stype(col, trial_store, control_store):\n",
    "    if col == trial_store:\n",
    "        return 'Trial'\n",
    "    elif col == control_store:\n",
    "        return 'Control'\n",
    "    else:\n",
    "        return 'Other stores'"
   ]
  },
  {
   "cell_type": "code",
   "execution_count": 95,
   "id": "68b9c6f0",
   "metadata": {},
   "outputs": [],
   "source": [
    "met['Store_type'] = met['STORE_NBR'].apply(lambda x : stype(x, 77, 233))"
   ]
  },
  {
   "cell_type": "code",
   "execution_count": 96,
   "id": "ce96f18a",
   "metadata": {},
   "outputs": [],
   "source": [
    "pastSales = met.groupby(['MONTH_ID', 'Store_type']).agg({\n",
    "    'TOT_SALES':'mean'\n",
    "}).reset_index()\n",
    "\n",
    "pastSales['TransactionMonth'] = pd.to_datetime(pastSales['MONTH_ID'], format='%Y%m')\n",
    "pastSales = pastSales[pastSales['MONTH_ID'] < '201903']"
   ]
  },
  {
   "cell_type": "code",
   "execution_count": 97,
   "id": "0e64ebc0",
   "metadata": {},
   "outputs": [
    {
     "data": {
      "text/plain": [
       "Text(0, 0.5, 'Total Sales')"
      ]
     },
     "execution_count": 97,
     "metadata": {},
     "output_type": "execute_result"
    },
    {
     "data": {
      "image/png": "[encoded data removed]",
      "text/plain": [
       "<Figure size 864x432 with 1 Axes>"
      ]
     },
     "metadata": {
      "needs_background": "light"
     },
     "output_type": "display_data"
    }
   ],
   "source": [
    "fig, ax = plt.subplots(figsize=(12,6))\n",
    "\n",
    "sns.lineplot(x='TransactionMonth', y='TOT_SALES', hue='Store_type', data = pastSales)\n",
    "ax.set_title('Total Sales by Month')\n",
    "ax.set_ylabel('Total Sales')"
   ]
  },
  {
   "cell_type": "code",
   "execution_count": 98,
   "id": "16e931f7",
   "metadata": {},
   "outputs": [],
   "source": [
    "pastCustomers = met.groupby(['MONTH_ID', 'Store_type']).agg({\n",
    "    'nCustomer':'mean'\n",
    "}).reset_index()\n",
    "\n",
    "pastCustomers['TransactionMonth'] = pd.to_datetime(pastCustomers['MONTH_ID'], format='%Y%m')\n",
    "pastCustomers = pastCustomers[pastCustomers['MONTH_ID'] < '201903']"
   ]
  },
  {
   "cell_type": "code",
   "execution_count": 99,
   "id": "1e89c595",
   "metadata": {},
   "outputs": [
    {
     "data": {
      "text/plain": [
       "Text(0, 0.5, 'Number of Customers')"
      ]
     },
     "execution_count": 99,
     "metadata": {},
     "output_type": "execute_result"
    },
    {
     "data": {
      "image/png": "[encoded data removed]",
      "text/plain": [
       "<Figure size 864x432 with 1 Axes>"
      ]
     },
     "metadata": {
      "needs_background": "light"
     },
     "output_type": "display_data"
    }
   ],
   "source": [
    "fig, ax = plt.subplots(figsize=(12,6))\n",
    "\n",
    "sns.lineplot(x='TransactionMonth', y='nCustomer', hue='Store_type', data = pastCustomers)\n",
    "ax.set_title('Number of Customers by Month')\n",
    "ax.set_ylabel('Number of Customers')"
   ]
  },
  {
   "cell_type": "markdown",
   "id": "0e6958b4",
   "metadata": {},
   "source": [
    "The trends of the mean of the customer count and total sales of both the trial store and control store are similar"
   ]
  },
  {
   "cell_type": "markdown",
   "id": "9c5a6f4e",
   "metadata": {},
   "source": [
    "## Assessment of Trial"
   ]
  },
  {
   "cell_type": "markdown",
   "id": "288eb890",
   "metadata": {},
   "source": [
    "### Total Sales"
   ]
  },
  {
   "cell_type": "code",
   "execution_count": 100,
   "id": "a84922db",
   "metadata": {},
   "outputs": [],
   "source": [
    "scalingFactorForControlSales = (rpretrial[rpretrial['STORE_NBR'] == 77]['TOT_SALES'].sum())/(\n",
    "    rpretrial[rpretrial['STORE_NBR'] == 233]['TOT_SALES'].sum())"
   ]
  },
  {
   "cell_type": "code",
   "execution_count": 101,
   "id": "99047ef0",
   "metadata": {},
   "outputs": [
    {
     "name": "stderr",
     "output_type": "stream",
     "text": [
      "C:\\Users\\queency\\AppData\\Local\\Temp/ipykernel_9968/890489554.py:2: SettingWithCopyWarning: \n",
      "A value is trying to be set on a copy of a slice from a DataFrame.\n",
      "Try using .loc[row_indexer,col_indexer] = value instead\n",
      "\n",
      "See the caveats in the documentation: https://pandas.pydata.org/pandas-docs/stable/user_guide/indexing.html#returning-a-view-versus-a-copy\n",
      "  scaledControlSales['controlSales'] = scaledControlSales.loc[:,'TOT_SALES'] * scalingFactorForControlSales\n"
     ]
    }
   ],
   "source": [
    "scaledControlSales = met[met['STORE_NBR'] == 233]\n",
    "scaledControlSales['controlSales'] = scaledControlSales.loc[:,'TOT_SALES'] * scalingFactorForControlSales"
   ]
  },
  {
   "cell_type": "code",
   "execution_count": 102,
   "id": "811494b2",
   "metadata": {},
   "outputs": [],
   "source": [
    "pDiff = met[met['STORE_NBR'] == 77][['STORE_NBR', 'MONTH_ID', 'TOT_SALES']].merge(\n",
    "    scaledControlSales[['STORE_NBR', 'MONTH_ID', 'controlSales']], on='MONTH_ID', suffixes=('_T', '_C'))\n",
    "\n",
    "pDiff['percentDiff'] = abs((pDiff['controlSales'] - pDiff['TOT_SALES']) / pDiff['controlSales'])"
   ]
  },
  {
   "cell_type": "code",
   "execution_count": 103,
   "id": "ab21cab4",
   "metadata": {},
   "outputs": [
    {
     "data": {
      "text/html": [
       "<div>\n",
       "<style scoped>\n",
       "    .dataframe tbody tr th:only-of-type {\n",
       "        vertical-align: middle;\n",
       "    }\n",
       "\n",
       "    .dataframe tbody tr th {\n",
       "        vertical-align: top;\n",
       "    }\n",
       "\n",
       "    .dataframe thead th {\n",
       "        text-align: right;\n",
       "    }\n",
       "</style>\n",
       "<table border=\"1\" class=\"dataframe\">\n",
       "  <thead>\n",
       "    <tr style=\"text-align: right;\">\n",
       "      <th></th>\n",
       "      <th>STORE_NBR_T</th>\n",
       "      <th>MONTH_ID</th>\n",
       "      <th>TOT_SALES</th>\n",
       "      <th>STORE_NBR_C</th>\n",
       "      <th>controlSales</th>\n",
       "      <th>percentDiff</th>\n",
       "    </tr>\n",
       "  </thead>\n",
       "  <tbody>\n",
       "    <tr>\n",
       "      <th>0</th>\n",
       "      <td>77</td>\n",
       "      <td>201807</td>\n",
       "      <td>296.8</td>\n",
       "      <td>233</td>\n",
       "      <td>297.565550</td>\n",
       "      <td>0.002573</td>\n",
       "    </tr>\n",
       "    <tr>\n",
       "      <th>1</th>\n",
       "      <td>77</td>\n",
       "      <td>201808</td>\n",
       "      <td>255.5</td>\n",
       "      <td>233</td>\n",
       "      <td>292.652187</td>\n",
       "      <td>0.126950</td>\n",
       "    </tr>\n",
       "    <tr>\n",
       "      <th>2</th>\n",
       "      <td>77</td>\n",
       "      <td>201809</td>\n",
       "      <td>225.2</td>\n",
       "      <td>233</td>\n",
       "      <td>233.998916</td>\n",
       "      <td>0.037602</td>\n",
       "    </tr>\n",
       "    <tr>\n",
       "      <th>3</th>\n",
       "      <td>77</td>\n",
       "      <td>201810</td>\n",
       "      <td>204.5</td>\n",
       "      <td>233</td>\n",
       "      <td>190.085733</td>\n",
       "      <td>0.075830</td>\n",
       "    </tr>\n",
       "    <tr>\n",
       "      <th>4</th>\n",
       "      <td>77</td>\n",
       "      <td>201811</td>\n",
       "      <td>245.3</td>\n",
       "      <td>233</td>\n",
       "      <td>216.597421</td>\n",
       "      <td>0.132516</td>\n",
       "    </tr>\n",
       "    <tr>\n",
       "      <th>5</th>\n",
       "      <td>77</td>\n",
       "      <td>201812</td>\n",
       "      <td>267.3</td>\n",
       "      <td>233</td>\n",
       "      <td>286.408121</td>\n",
       "      <td>0.066716</td>\n",
       "    </tr>\n",
       "    <tr>\n",
       "      <th>6</th>\n",
       "      <td>77</td>\n",
       "      <td>201901</td>\n",
       "      <td>204.4</td>\n",
       "      <td>233</td>\n",
       "      <td>181.692071</td>\n",
       "      <td>0.124980</td>\n",
       "    </tr>\n",
       "    <tr>\n",
       "      <th>7</th>\n",
       "      <td>77</td>\n",
       "      <td>201902</td>\n",
       "      <td>235.0</td>\n",
       "      <td>233</td>\n",
       "      <td>249.762622</td>\n",
       "      <td>0.059107</td>\n",
       "    </tr>\n",
       "    <tr>\n",
       "      <th>8</th>\n",
       "      <td>77</td>\n",
       "      <td>201903</td>\n",
       "      <td>278.5</td>\n",
       "      <td>233</td>\n",
       "      <td>203.802205</td>\n",
       "      <td>0.366521</td>\n",
       "    </tr>\n",
       "    <tr>\n",
       "      <th>9</th>\n",
       "      <td>77</td>\n",
       "      <td>201904</td>\n",
       "      <td>263.5</td>\n",
       "      <td>233</td>\n",
       "      <td>162.345704</td>\n",
       "      <td>0.623080</td>\n",
       "    </tr>\n",
       "    <tr>\n",
       "      <th>10</th>\n",
       "      <td>77</td>\n",
       "      <td>201905</td>\n",
       "      <td>299.3</td>\n",
       "      <td>233</td>\n",
       "      <td>352.533799</td>\n",
       "      <td>0.151003</td>\n",
       "    </tr>\n",
       "    <tr>\n",
       "      <th>11</th>\n",
       "      <td>77</td>\n",
       "      <td>201906</td>\n",
       "      <td>264.7</td>\n",
       "      <td>233</td>\n",
       "      <td>226.219424</td>\n",
       "      <td>0.170103</td>\n",
       "    </tr>\n",
       "  </tbody>\n",
       "</table>\n",
       "</div>"
      ],
      "text/plain": [
       "    STORE_NBR_T MONTH_ID  TOT_SALES  STORE_NBR_C  controlSales  percentDiff\n",
       "0            77   201807      296.8          233    297.565550     0.002573\n",
       "1            77   201808      255.5          233    292.652187     0.126950\n",
       "2            77   201809      225.2          233    233.998916     0.037602\n",
       "3            77   201810      204.5          233    190.085733     0.075830\n",
       "4            77   201811      245.3          233    216.597421     0.132516\n",
       "5            77   201812      267.3          233    286.408121     0.066716\n",
       "6            77   201901      204.4          233    181.692071     0.124980\n",
       "7            77   201902      235.0          233    249.762622     0.059107\n",
       "8            77   201903      278.5          233    203.802205     0.366521\n",
       "9            77   201904      263.5          233    162.345704     0.623080\n",
       "10           77   201905      299.3          233    352.533799     0.151003\n",
       "11           77   201906      264.7          233    226.219424     0.170103"
      ]
     },
     "execution_count": 103,
     "metadata": {},
     "output_type": "execute_result"
    }
   ],
   "source": [
    "pDiff"
   ]
  },
  {
   "cell_type": "code",
   "execution_count": 104,
   "id": "aad4afd0",
   "metadata": {},
   "outputs": [],
   "source": [
    "pDiffp = pDiff[pDiff['MONTH_ID']<'201902'].reset_index(drop=True)\n",
    "pDifft = pDiff[(pDiff['MONTH_ID']>'201901') & (pDiff['MONTH_ID']<'201905')].reset_index(drop=True)\n",
    "\n",
    "stdDev = (pDiffp['percentDiff']).std()"
   ]
  },
  {
   "cell_type": "code",
   "execution_count": 105,
   "id": "b4f76b9b",
   "metadata": {},
   "outputs": [
    {
     "name": "stdout",
     "output_type": "stream",
     "text": [
      "Ttest_indResult(statistic=-1.2533353315065932e-15, pvalue=0.999999999999999)\n",
      "\n",
      "Critical t value for 95% confidence value\n",
      "[-2.44691185  2.44691185]\n"
     ]
    }
   ],
   "source": [
    "print(stats.ttest_ind(pDiffp['TOT_SALES'],\n",
    "               pDiffp['controlSales']))\n",
    "print()\n",
    "print('Critical t value for 95% confidence value')\n",
    "alpha = 0.05\n",
    "print(stats.t.ppf((alpha/2, 1-alpha/2), df= len(pDiffp)-1))"
   ]
  },
  {
   "cell_type": "markdown",
   "id": "9e4cedf6",
   "metadata": {},
   "source": [
    "Our null hypothesis is of there being 0 difference between trial and control stores"
   ]
  },
  {
   "cell_type": "code",
   "execution_count": 106,
   "id": "dfe5080c",
   "metadata": {},
   "outputs": [],
   "source": [
    "pDifft['t_value'] = stats.ttest_ind(pDiffp['TOT_SALES'],\n",
    "               pDiffp['controlSales']).statistic\n",
    "pDifft['test_stat'] = pDifft['percentDiff'].apply(lambda x : (x-pDiffp['percentDiff'].mean())/ pDiffp['percentDiff'].std())\n",
    "pDifft['95th Percentile of t-distribution'] = stats.t.ppf(0.95, df=len(pDiffp)-1)"
   ]
  },
  {
   "cell_type": "code",
   "execution_count": 107,
   "id": "52714f93",
   "metadata": {},
   "outputs": [
    {
     "data": {
      "text/html": [
       "<div>\n",
       "<style scoped>\n",
       "    .dataframe tbody tr th:only-of-type {\n",
       "        vertical-align: middle;\n",
       "    }\n",
       "\n",
       "    .dataframe tbody tr th {\n",
       "        vertical-align: top;\n",
       "    }\n",
       "\n",
       "    .dataframe thead th {\n",
       "        text-align: right;\n",
       "    }\n",
       "</style>\n",
       "<table border=\"1\" class=\"dataframe\">\n",
       "  <thead>\n",
       "    <tr style=\"text-align: right;\">\n",
       "      <th></th>\n",
       "      <th>STORE_NBR_T</th>\n",
       "      <th>MONTH_ID</th>\n",
       "      <th>TOT_SALES</th>\n",
       "      <th>STORE_NBR_C</th>\n",
       "      <th>controlSales</th>\n",
       "      <th>percentDiff</th>\n",
       "      <th>t_value</th>\n",
       "      <th>test_stat</th>\n",
       "      <th>95th Percentile of t-distribution</th>\n",
       "    </tr>\n",
       "  </thead>\n",
       "  <tbody>\n",
       "    <tr>\n",
       "      <th>0</th>\n",
       "      <td>77</td>\n",
       "      <td>201902</td>\n",
       "      <td>235.0</td>\n",
       "      <td>233</td>\n",
       "      <td>249.762622</td>\n",
       "      <td>0.059107</td>\n",
       "      <td>-1.253335e-15</td>\n",
       "      <td>-0.438867</td>\n",
       "      <td>1.94318</td>\n",
       "    </tr>\n",
       "    <tr>\n",
       "      <th>1</th>\n",
       "      <td>77</td>\n",
       "      <td>201903</td>\n",
       "      <td>278.5</td>\n",
       "      <td>233</td>\n",
       "      <td>203.802205</td>\n",
       "      <td>0.366521</td>\n",
       "      <td>-1.253335e-15</td>\n",
       "      <td>5.716714</td>\n",
       "      <td>1.94318</td>\n",
       "    </tr>\n",
       "    <tr>\n",
       "      <th>2</th>\n",
       "      <td>77</td>\n",
       "      <td>201904</td>\n",
       "      <td>263.5</td>\n",
       "      <td>233</td>\n",
       "      <td>162.345704</td>\n",
       "      <td>0.623080</td>\n",
       "      <td>-1.253335e-15</td>\n",
       "      <td>10.853971</td>\n",
       "      <td>1.94318</td>\n",
       "    </tr>\n",
       "  </tbody>\n",
       "</table>\n",
       "</div>"
      ],
      "text/plain": [
       "   STORE_NBR_T MONTH_ID  TOT_SALES  STORE_NBR_C  controlSales  percentDiff  \\\n",
       "0           77   201902      235.0          233    249.762622     0.059107   \n",
       "1           77   201903      278.5          233    203.802205     0.366521   \n",
       "2           77   201904      263.5          233    162.345704     0.623080   \n",
       "\n",
       "        t_value  test_stat  95th Percentile of t-distribution  \n",
       "0 -1.253335e-15  -0.438867                            1.94318  \n",
       "1 -1.253335e-15   5.716714                            1.94318  \n",
       "2 -1.253335e-15  10.853971                            1.94318  "
      ]
     },
     "execution_count": 107,
     "metadata": {},
     "output_type": "execute_result"
    }
   ],
   "source": [
    "pDifft"
   ]
  },
  {
   "cell_type": "markdown",
   "id": "43ca33a8",
   "metadata": {},
   "source": [
    "It is observed that the t-value is much larger than the 95th percentile value of the t-distribution for March and April - i.e. the increase in sales in the trial store in March and April is statistically greater than in the control store"
   ]
  },
  {
   "cell_type": "code",
   "execution_count": 108,
   "id": "a109369f",
   "metadata": {},
   "outputs": [],
   "source": [
    "ppSales = met[(met['Store_type'] =='Trial') | (met['Store_type'] =='Control')].reset_index(drop=True)\n",
    "ppSales = ppSales.groupby(['MONTH_ID', 'Store_type']).agg({\n",
    "    'TOT_SALES':'mean'\n",
    "}).reset_index()\n",
    "\n",
    "ppSales['TransactionMonth'] = pd.to_datetime(ppSales['MONTH_ID'], format='%Y%m')\n",
    "\n",
    "ppSales_95 = ppSales[ppSales['Store_type'] == 'Control']\n",
    "ppSales_95 = ppSales_95.assign(\n",
    "    TOT_SALES = lambda x : x.TOT_SALES * (1 + stdDev * 2),\n",
    "    Store_type = 'Control 95th % confidence interval').reset_index(drop=True)\n",
    "\n",
    "ppSales_5 = ppSales[ppSales['Store_type'] == 'Control']\n",
    "ppSales_5 = ppSales_5.assign(\n",
    "    TOT_SALES = lambda x : x.TOT_SALES * (1 - stdDev * 2),\n",
    "    Store_type = 'Control 5th % confidence interval').reset_index(drop=True)\n",
    "\n",
    "trialAssessment = ppSales.append([ppSales_95, ppSales_5], ignore_index=True)"
   ]
  },
  {
   "cell_type": "code",
   "execution_count": 109,
   "id": "3d3e11a3",
   "metadata": {},
   "outputs": [
    {
     "data": {
      "text/plain": [
       "<matplotlib.legend.Legend at 0x1ca945cc760>"
      ]
     },
     "execution_count": 109,
     "metadata": {},
     "output_type": "execute_result"
    },
    {
     "data": {
      "image/png": "[encoded data removed]",
      "text/plain": [
       "<Figure size 864x432 with 1 Axes>"
      ]
     },
     "metadata": {
      "needs_background": "light"
     },
     "output_type": "display_data"
    }
   ],
   "source": [
    "fig, axes = plt.subplots(figsize=(12,6))\n",
    "sns.barplot(\n",
    "    x='TransactionMonth',\n",
    "    y='TOT_SALES',\n",
    "    hue='Store_type',\n",
    "    data=trialAssessment[(trialAssessment['MONTH_ID']>'201901') & (\n",
    "        trialAssessment['MONTH_ID']<'201905')].reset_index(drop=True))\n",
    "\n",
    "plt.legend(bbox_to_anchor=(1,1))"
   ]
  },
  {
   "cell_type": "markdown",
   "id": "37f239a0",
   "metadata": {},
   "source": [
    "The results show that the trial in store 77 is significantly different to its control store in the trial period as the trial store performance lies outside the 5% to 95% confidence interval of the control store in two of the three trial \n",
    "months i.e. in the months of March and April"
   ]
  },
  {
   "cell_type": "markdown",
   "id": "360026e4",
   "metadata": {},
   "source": [
    "### Number of Customers"
   ]
  },
  {
   "cell_type": "code",
   "execution_count": 110,
   "id": "d4d7902b",
   "metadata": {},
   "outputs": [
    {
     "name": "stdout",
     "output_type": "stream",
     "text": [
      "Ttest_indResult(statistic=0.0, pvalue=1.0)\n",
      "\n",
      "Critical t value for 95% confidence value\n",
      "[-2.44691185  2.44691185]\n"
     ]
    },
    {
     "name": "stderr",
     "output_type": "stream",
     "text": [
      "C:\\Users\\queency\\AppData\\Local\\Temp/ipykernel_9968/2901980517.py:5: SettingWithCopyWarning: \n",
      "A value is trying to be set on a copy of a slice from a DataFrame.\n",
      "Try using .loc[row_indexer,col_indexer] = value instead\n",
      "\n",
      "See the caveats in the documentation: https://pandas.pydata.org/pandas-docs/stable/user_guide/indexing.html#returning-a-view-versus-a-copy\n",
      "  scaledControlCust['controlCust'] = scaledControlCust.loc[:,'nCustomer'] * scalingFactorForControlCust\n"
     ]
    }
   ],
   "source": [
    "scalingFactorForControlCust = (rpretrial[rpretrial['STORE_NBR'] == 77]['nCustomer'].sum())/(\n",
    "    rpretrial[rpretrial['STORE_NBR'] == 233]['nCustomer'].sum())\n",
    "    \n",
    "scaledControlCust = met[met['STORE_NBR'] == 233]\n",
    "scaledControlCust['controlCust'] = scaledControlCust.loc[:,'nCustomer'] * scalingFactorForControlCust\n",
    "\n",
    "pDiff = met[met['STORE_NBR'] == 77][['STORE_NBR', 'MONTH_ID', 'nCustomer']].merge(\n",
    "    scaledControlCust[['STORE_NBR', 'MONTH_ID', 'controlCust']], on='MONTH_ID', suffixes=('_T', '_C'))\n",
    "\n",
    "pDiff['percentDiff'] = abs((pDiff['controlCust'] - pDiff['nCustomer']) / pDiff['controlCust'])\n",
    "\n",
    "pDiffp = pDiff[pDiff['MONTH_ID']<'201902'].reset_index(drop=True)\n",
    "pDifft = pDiff[(pDiff['MONTH_ID']>'201901') & (pDiff['MONTH_ID']<'201905')].reset_index(drop=True)\n",
    "\n",
    "stdDev = (pDiffp['percentDiff']).std()\n",
    "\n",
    "print(stats.ttest_ind(pDiffp['nCustomer'],\n",
    "               pDiffp['controlCust']))\n",
    "print()\n",
    "print('Critical t value for 95% confidence value')\n",
    "alpha = 0.05\n",
    "print(stats.t.ppf((alpha/2, 1-alpha/2), df= len(pDiffp)-1))"
   ]
  },
  {
   "cell_type": "markdown",
   "id": "9fcd4cbd",
   "metadata": {},
   "source": [
    "Our null hypothesis is of there being 0 difference between trial and control stores"
   ]
  },
  {
   "cell_type": "code",
   "execution_count": 111,
   "id": "eb79a212",
   "metadata": {},
   "outputs": [
    {
     "data": {
      "text/html": [
       "<div>\n",
       "<style scoped>\n",
       "    .dataframe tbody tr th:only-of-type {\n",
       "        vertical-align: middle;\n",
       "    }\n",
       "\n",
       "    .dataframe tbody tr th {\n",
       "        vertical-align: top;\n",
       "    }\n",
       "\n",
       "    .dataframe thead th {\n",
       "        text-align: right;\n",
       "    }\n",
       "</style>\n",
       "<table border=\"1\" class=\"dataframe\">\n",
       "  <thead>\n",
       "    <tr style=\"text-align: right;\">\n",
       "      <th></th>\n",
       "      <th>STORE_NBR_T</th>\n",
       "      <th>MONTH_ID</th>\n",
       "      <th>nCustomer</th>\n",
       "      <th>STORE_NBR_C</th>\n",
       "      <th>controlCust</th>\n",
       "      <th>percentDiff</th>\n",
       "      <th>t_value</th>\n",
       "      <th>test_stat</th>\n",
       "      <th>95th Percentile of t-distribution</th>\n",
       "    </tr>\n",
       "  </thead>\n",
       "  <tbody>\n",
       "    <tr>\n",
       "      <th>0</th>\n",
       "      <td>77</td>\n",
       "      <td>201902</td>\n",
       "      <td>45</td>\n",
       "      <td>233</td>\n",
       "      <td>45.151007</td>\n",
       "      <td>0.003344</td>\n",
       "      <td>0.0</td>\n",
       "      <td>-0.865091</td>\n",
       "      <td>1.94318</td>\n",
       "    </tr>\n",
       "    <tr>\n",
       "      <th>1</th>\n",
       "      <td>77</td>\n",
       "      <td>201903</td>\n",
       "      <td>50</td>\n",
       "      <td>233</td>\n",
       "      <td>40.134228</td>\n",
       "      <td>0.245819</td>\n",
       "      <td>0.0</td>\n",
       "      <td>12.427945</td>\n",
       "      <td>1.94318</td>\n",
       "    </tr>\n",
       "    <tr>\n",
       "      <th>2</th>\n",
       "      <td>77</td>\n",
       "      <td>201904</td>\n",
       "      <td>47</td>\n",
       "      <td>233</td>\n",
       "      <td>30.100671</td>\n",
       "      <td>0.561427</td>\n",
       "      <td>0.0</td>\n",
       "      <td>29.730282</td>\n",
       "      <td>1.94318</td>\n",
       "    </tr>\n",
       "  </tbody>\n",
       "</table>\n",
       "</div>"
      ],
      "text/plain": [
       "   STORE_NBR_T MONTH_ID  nCustomer  STORE_NBR_C  controlCust  percentDiff  \\\n",
       "0           77   201902         45          233    45.151007     0.003344   \n",
       "1           77   201903         50          233    40.134228     0.245819   \n",
       "2           77   201904         47          233    30.100671     0.561427   \n",
       "\n",
       "   t_value  test_stat  95th Percentile of t-distribution  \n",
       "0      0.0  -0.865091                            1.94318  \n",
       "1      0.0  12.427945                            1.94318  \n",
       "2      0.0  29.730282                            1.94318  "
      ]
     },
     "execution_count": 111,
     "metadata": {},
     "output_type": "execute_result"
    }
   ],
   "source": [
    "pDifft['t_value'] = stats.ttest_ind(pDiffp['nCustomer'],\n",
    "               pDiffp['controlCust']).statistic\n",
    "pDifft['test_stat'] = pDifft['percentDiff'].apply(lambda x : (x-pDiffp['percentDiff'].mean())/ pDiffp['percentDiff'].std())\n",
    "pDifft['95th Percentile of t-distribution'] = stats.t.ppf(0.95, df=len(pDiffp)-1)\n",
    "\n",
    "pDifft"
   ]
  },
  {
   "cell_type": "markdown",
   "id": "92e3b6a5",
   "metadata": {},
   "source": [
    "It is observed that the t-value is much larger than the 95th percentile value of the t-distribution for March and April - i.e. the increase in customers in the trial store in March and April is statistically greater than in the control store"
   ]
  },
  {
   "cell_type": "code",
   "execution_count": 112,
   "id": "d20b5a1c",
   "metadata": {},
   "outputs": [],
   "source": [
    "ppCust = met[(met['Store_type'] =='Trial') | (met['Store_type'] =='Control')].reset_index(drop=True)\n",
    "ppCust = ppCust.groupby(['MONTH_ID', 'Store_type']).agg({\n",
    "    'nCustomer':'mean'\n",
    "}).reset_index()\n",
    "\n",
    "ppCust['TransactionMonth'] = pd.to_datetime(ppCust['MONTH_ID'], format='%Y%m')\n",
    "\n",
    "ppCust_95 = ppCust[ppCust['Store_type'] == 'Control']\n",
    "ppCust_95 = ppCust_95.assign(\n",
    "    nCustomer = lambda x : x.nCustomer * (1 + stdDev * 2),\n",
    "    Store_type = 'Control 95th % confidence interval').reset_index(drop=True)\n",
    "\n",
    "ppCust_5 = ppCust[ppCust['Store_type'] == 'Control']\n",
    "ppCust_5 = ppCust_5.assign(\n",
    "    nCustomer = lambda x : x.nCustomer * (1 - stdDev * 2),\n",
    "    Store_type = 'Control 5th % confidence interval').reset_index(drop=True)\n",
    "\n",
    "trialAssessment = ppCust.append([ppCust_95, ppCust_5], ignore_index=True)"
   ]
  },
  {
   "cell_type": "code",
   "execution_count": 113,
   "id": "b17d2082",
   "metadata": {},
   "outputs": [
    {
     "data": {
      "text/plain": [
       "<matplotlib.legend.Legend at 0x1ca945fea60>"
      ]
     },
     "execution_count": 113,
     "metadata": {},
     "output_type": "execute_result"
    },
    {
     "data": {
      "image/png": "[encoded data removed]",
      "text/plain": [
       "<Figure size 864x432 with 1 Axes>"
      ]
     },
     "metadata": {
      "needs_background": "light"
     },
     "output_type": "display_data"
    }
   ],
   "source": [
    "fig, axes = plt.subplots(figsize=(12,6))\n",
    "sns.barplot(\n",
    "    x='TransactionMonth',\n",
    "    y='nCustomer',\n",
    "    hue='Store_type',\n",
    "    data=trialAssessment[(trialAssessment['MONTH_ID']>'201901') & (\n",
    "        trialAssessment['MONTH_ID']<'201905')].reset_index(drop=True))\n",
    "\n",
    "plt.legend(bbox_to_anchor=(1,1))"
   ]
  },
  {
   "cell_type": "markdown",
   "id": "4e245953",
   "metadata": {},
   "source": [
    "And just like with total sales, the results show that the trial in store 77 is significantly different to its control store in the trial period."
   ]
  },
  {
   "cell_type": "markdown",
   "id": "4217f6eb",
   "metadata": {},
   "source": [
    "# Trial Store 86"
   ]
  },
  {
   "cell_type": "markdown",
   "id": "0a7ea67e",
   "metadata": {},
   "source": [
    "## Analysis"
   ]
  },
  {
   "cell_type": "code",
   "execution_count": 114,
   "id": "1a8974ef",
   "metadata": {},
   "outputs": [
    {
     "name": "stderr",
     "output_type": "stream",
     "text": [
      "C:\\Users\\queency\\anaconda3\\lib\\site-packages\\pandas\\core\\frame.py:9186: FutureWarning: merging between different levels is deprecated and will be removed in a future version. (1 levels on the left,2 on the right)\n",
      "  return merge(\n"
     ]
    },
    {
     "data": {
      "text/html": [
       "<div>\n",
       "<style scoped>\n",
       "    .dataframe tbody tr th:only-of-type {\n",
       "        vertical-align: middle;\n",
       "    }\n",
       "\n",
       "    .dataframe tbody tr th {\n",
       "        vertical-align: top;\n",
       "    }\n",
       "\n",
       "    .dataframe thead th {\n",
       "        text-align: right;\n",
       "    }\n",
       "</style>\n",
       "<table border=\"1\" class=\"dataframe\">\n",
       "  <thead>\n",
       "    <tr style=\"text-align: right;\">\n",
       "      <th></th>\n",
       "      <th>Store 1</th>\n",
       "      <th>Store 2</th>\n",
       "      <th>score_NSales</th>\n",
       "      <th>score_NCustomer</th>\n",
       "      <th>Final_score</th>\n",
       "    </tr>\n",
       "  </thead>\n",
       "  <tbody>\n",
       "    <tr>\n",
       "      <th>80</th>\n",
       "      <td>86</td>\n",
       "      <td>86</td>\n",
       "      <td>1.000000</td>\n",
       "      <td>1.000000</td>\n",
       "      <td>1.000000</td>\n",
       "    </tr>\n",
       "    <tr>\n",
       "      <th>147</th>\n",
       "      <td>86</td>\n",
       "      <td>155</td>\n",
       "      <td>0.920423</td>\n",
       "      <td>0.963956</td>\n",
       "      <td>0.942190</td>\n",
       "    </tr>\n",
       "    <tr>\n",
       "      <th>102</th>\n",
       "      <td>86</td>\n",
       "      <td>109</td>\n",
       "      <td>0.875142</td>\n",
       "      <td>0.868359</td>\n",
       "      <td>0.871751</td>\n",
       "    </tr>\n",
       "    <tr>\n",
       "      <th>107</th>\n",
       "      <td>86</td>\n",
       "      <td>114</td>\n",
       "      <td>0.826848</td>\n",
       "      <td>0.895424</td>\n",
       "      <td>0.861136</td>\n",
       "    </tr>\n",
       "    <tr>\n",
       "      <th>130</th>\n",
       "      <td>86</td>\n",
       "      <td>138</td>\n",
       "      <td>0.841792</td>\n",
       "      <td>0.838866</td>\n",
       "      <td>0.840329</td>\n",
       "    </tr>\n",
       "    <tr>\n",
       "      <th>...</th>\n",
       "      <td>...</td>\n",
       "      <td>...</td>\n",
       "      <td>...</td>\n",
       "      <td>...</td>\n",
       "      <td>...</td>\n",
       "    </tr>\n",
       "    <tr>\n",
       "      <th>101</th>\n",
       "      <td>86</td>\n",
       "      <td>108</td>\n",
       "      <td>-0.249380</td>\n",
       "      <td>-0.176424</td>\n",
       "      <td>-0.212902</td>\n",
       "    </tr>\n",
       "    <tr>\n",
       "      <th>48</th>\n",
       "      <td>86</td>\n",
       "      <td>52</td>\n",
       "      <td>-0.283667</td>\n",
       "      <td>-0.276647</td>\n",
       "      <td>-0.280157</td>\n",
       "    </tr>\n",
       "    <tr>\n",
       "      <th>112</th>\n",
       "      <td>86</td>\n",
       "      <td>120</td>\n",
       "      <td>-0.350003</td>\n",
       "      <td>-0.219713</td>\n",
       "      <td>-0.284858</td>\n",
       "    </tr>\n",
       "    <tr>\n",
       "      <th>39</th>\n",
       "      <td>86</td>\n",
       "      <td>42</td>\n",
       "      <td>-0.362960</td>\n",
       "      <td>-0.312340</td>\n",
       "      <td>-0.337650</td>\n",
       "    </tr>\n",
       "    <tr>\n",
       "      <th>138</th>\n",
       "      <td>86</td>\n",
       "      <td>146</td>\n",
       "      <td>-0.378065</td>\n",
       "      <td>-0.313900</td>\n",
       "      <td>-0.345982</td>\n",
       "    </tr>\n",
       "  </tbody>\n",
       "</table>\n",
       "<p>260 rows × 5 columns</p>\n",
       "</div>"
      ],
      "text/plain": [
       "     Store 1  Store 2  score_NSales  score_NCustomer  Final_score\n",
       "80        86       86      1.000000         1.000000     1.000000\n",
       "147       86      155      0.920423         0.963956     0.942190\n",
       "102       86      109      0.875142         0.868359     0.871751\n",
       "107       86      114      0.826848         0.895424     0.861136\n",
       "130       86      138      0.841792         0.838866     0.840329\n",
       "..       ...      ...           ...              ...          ...\n",
       "101       86      108     -0.249380        -0.176424    -0.212902\n",
       "48        86       52     -0.283667        -0.276647    -0.280157\n",
       "112       86      120     -0.350003        -0.219713    -0.284858\n",
       "39        86       42     -0.362960        -0.312340    -0.337650\n",
       "138       86      146     -0.378065        -0.313900    -0.345982\n",
       "\n",
       "[260 rows x 5 columns]"
      ]
     },
     "execution_count": 114,
     "metadata": {},
     "output_type": "execute_result"
    }
   ],
   "source": [
    "corr_nSales = calCor(rpretrial,'TOT_SALES', 86)\n",
    "corr_nCustomers = calCor(rpretrial,'nCustomer', 86)\n",
    "\n",
    "magnitude_nSales = calcMag(rpretrial, 86, 'TOT_SALES')\n",
    "magnitude_nCustomer = calcMag(rpretrial, 86, 'nCustomer')\n",
    "\n",
    "score_nSales = corr_nSales.merge(magnitude_nSales)\n",
    "score_nSales = score_nSales.assign(\n",
    "    score_NSales = lambda x : (0.5 * x.corrMeasure) + (0.5 * x.magnitudeMeasure))\n",
    "score_nSales.drop(columns = ['corrMeasure', 'magnitudeMeasure'], inplace = True)\n",
    "\n",
    "score_nCustomer = corr_nCustomers.merge(magnitude_nCustomer)\n",
    "score_nCustomer = score_nCustomer.assign(\n",
    "    score_NCustomer = lambda x : (0.5 * x.corrMeasure) + (0.5 * x.magnitudeMeasure))\n",
    "score_nCustomer.drop(columns = ['corrMeasure', 'magnitudeMeasure'], inplace = True)\n",
    "\n",
    "score_control = score_nSales.merge(score_nCustomer, on = ['Store 1', 'Store 2'])\n",
    "score_control['Final_score'] = (0.5 * score_control.score_NSales) + (\n",
    "    0.5 * score_control.score_NCustomer)\n",
    "\n",
    "score_control.sort_values('Final_score', ascending=False)"
   ]
  },
  {
   "cell_type": "markdown",
   "id": "40b90d71",
   "metadata": {},
   "source": [
    "Store 155 is the closest to store 86 ans would be used as the control store"
   ]
  },
  {
   "cell_type": "code",
   "execution_count": 115,
   "id": "0f7eaf4d",
   "metadata": {},
   "outputs": [],
   "source": [
    "met['Store_type'] = met['STORE_NBR'].apply(lambda x : stype(x, 86, 155))\n",
    "\n",
    "pastSales = met.groupby(['MONTH_ID', 'Store_type']).agg({\n",
    "    'TOT_SALES':'mean'\n",
    "}).reset_index()\n",
    "\n",
    "pastSales['TransactionMonth'] = pd.to_datetime(pastSales['MONTH_ID'], format='%Y%m')\n",
    "pastSales = pastSales[pastSales['MONTH_ID'] < '201903']"
   ]
  },
  {
   "cell_type": "code",
   "execution_count": 116,
   "id": "001e8c02",
   "metadata": {},
   "outputs": [
    {
     "data": {
      "text/plain": [
       "Text(0.5, 1.0, 'Total Sales by Month')"
      ]
     },
     "execution_count": 116,
     "metadata": {},
     "output_type": "execute_result"
    },
    {
     "data": {
      "image/png": "[encoded data removed]",
      "text/plain": [
       "<Figure size 864x432 with 1 Axes>"
      ]
     },
     "metadata": {
      "needs_background": "light"
     },
     "output_type": "display_data"
    }
   ],
   "source": [
    "fig, ax = plt.subplots(figsize=(12,6))\n",
    "\n",
    "sns.lineplot(x='TransactionMonth', y='TOT_SALES', hue='Store_type', data = pastSales)\n",
    "ax.set_title('Total Sales by Month')"
   ]
  },
  {
   "cell_type": "code",
   "execution_count": 117,
   "id": "a2ceb0c2",
   "metadata": {},
   "outputs": [],
   "source": [
    "pastCustomers = met.groupby(['MONTH_ID', 'Store_type']).agg({\n",
    "    'nCustomer':'mean'\n",
    "}).reset_index()\n",
    "\n",
    "pastCustomers['TransactionMonth'] = pd.to_datetime(pastCustomers['MONTH_ID'], format='%Y%m')\n",
    "pastCustomers = pastCustomers[pastCustomers['MONTH_ID'] < '201903']"
   ]
  },
  {
   "cell_type": "code",
   "execution_count": 118,
   "id": "f03dd680",
   "metadata": {},
   "outputs": [
    {
     "data": {
      "text/plain": [
       "Text(0.5, 1.0, 'Number of Customers by Month')"
      ]
     },
     "execution_count": 118,
     "metadata": {},
     "output_type": "execute_result"
    },
    {
     "data": {
      "image/png": "[encoded data removed]",
      "text/plain": [
       "<Figure size 864x432 with 1 Axes>"
      ]
     },
     "metadata": {
      "needs_background": "light"
     },
     "output_type": "display_data"
    }
   ],
   "source": [
    "fig, ax = plt.subplots(figsize=(12,6))\n",
    "\n",
    "sns.lineplot(x='TransactionMonth', y='nCustomer', hue='Store_type', data = pastCustomers)\n",
    "ax.set_title('Number of Customers by Month')"
   ]
  },
  {
   "cell_type": "markdown",
   "id": "d7053ece",
   "metadata": {},
   "source": [
    "The trends are also similar"
   ]
  },
  {
   "cell_type": "markdown",
   "id": "ab28d972",
   "metadata": {},
   "source": [
    "## Assessment of Trial"
   ]
  },
  {
   "cell_type": "markdown",
   "id": "76c3e665",
   "metadata": {},
   "source": [
    "### Total Sales"
   ]
  },
  {
   "cell_type": "code",
   "execution_count": 119,
   "id": "ddc5ed3f",
   "metadata": {},
   "outputs": [
    {
     "name": "stderr",
     "output_type": "stream",
     "text": [
      "C:\\Users\\queency\\AppData\\Local\\Temp/ipykernel_9968/741407841.py:5: SettingWithCopyWarning: \n",
      "A value is trying to be set on a copy of a slice from a DataFrame.\n",
      "Try using .loc[row_indexer,col_indexer] = value instead\n",
      "\n",
      "See the caveats in the documentation: https://pandas.pydata.org/pandas-docs/stable/user_guide/indexing.html#returning-a-view-versus-a-copy\n",
      "  scaledControlSales['controlSales'] = scaledControlSales.loc[:,'TOT_SALES'] * scalingFactorForControlSales\n"
     ]
    }
   ],
   "source": [
    "scalingFactorForControlSales = (rpretrial[rpretrial['STORE_NBR'] == 86]['TOT_SALES'].sum())/(\n",
    "    rpretrial[rpretrial['STORE_NBR'] == 155]['TOT_SALES'].sum())\n",
    "\n",
    "scaledControlSales = met[met['STORE_NBR'] == 155]\n",
    "scaledControlSales['controlSales'] = scaledControlSales.loc[:,'TOT_SALES'] * scalingFactorForControlSales\n",
    "\n",
    "pDiff = met[met['STORE_NBR'] == 86][['STORE_NBR', 'MONTH_ID', 'TOT_SALES']].merge(\n",
    "    scaledControlSales[['STORE_NBR', 'MONTH_ID', 'controlSales']], on='MONTH_ID', suffixes=('_T', '_C'))\n",
    "\n",
    "pDiff['percentDiff'] = abs((pDiff['controlSales'] - pDiff['TOT_SALES']) / pDiff['controlSales'])"
   ]
  },
  {
   "cell_type": "code",
   "execution_count": 120,
   "id": "3920b442",
   "metadata": {},
   "outputs": [
    {
     "data": {
      "text/html": [
       "<div>\n",
       "<style scoped>\n",
       "    .dataframe tbody tr th:only-of-type {\n",
       "        vertical-align: middle;\n",
       "    }\n",
       "\n",
       "    .dataframe tbody tr th {\n",
       "        vertical-align: top;\n",
       "    }\n",
       "\n",
       "    .dataframe thead th {\n",
       "        text-align: right;\n",
       "    }\n",
       "</style>\n",
       "<table border=\"1\" class=\"dataframe\">\n",
       "  <thead>\n",
       "    <tr style=\"text-align: right;\">\n",
       "      <th></th>\n",
       "      <th>STORE_NBR_T</th>\n",
       "      <th>MONTH_ID</th>\n",
       "      <th>TOT_SALES</th>\n",
       "      <th>STORE_NBR_C</th>\n",
       "      <th>controlSales</th>\n",
       "      <th>percentDiff</th>\n",
       "    </tr>\n",
       "  </thead>\n",
       "  <tbody>\n",
       "    <tr>\n",
       "      <th>0</th>\n",
       "      <td>86</td>\n",
       "      <td>201807</td>\n",
       "      <td>892.20</td>\n",
       "      <td>155</td>\n",
       "      <td>896.922236</td>\n",
       "      <td>0.005265</td>\n",
       "    </tr>\n",
       "    <tr>\n",
       "      <th>1</th>\n",
       "      <td>86</td>\n",
       "      <td>201808</td>\n",
       "      <td>764.05</td>\n",
       "      <td>155</td>\n",
       "      <td>759.269991</td>\n",
       "      <td>0.006296</td>\n",
       "    </tr>\n",
       "    <tr>\n",
       "      <th>2</th>\n",
       "      <td>86</td>\n",
       "      <td>201809</td>\n",
       "      <td>914.60</td>\n",
       "      <td>155</td>\n",
       "      <td>984.034086</td>\n",
       "      <td>0.070561</td>\n",
       "    </tr>\n",
       "    <tr>\n",
       "      <th>3</th>\n",
       "      <td>86</td>\n",
       "      <td>201810</td>\n",
       "      <td>948.40</td>\n",
       "      <td>155</td>\n",
       "      <td>934.948790</td>\n",
       "      <td>0.014387</td>\n",
       "    </tr>\n",
       "    <tr>\n",
       "      <th>4</th>\n",
       "      <td>86</td>\n",
       "      <td>201811</td>\n",
       "      <td>918.00</td>\n",
       "      <td>155</td>\n",
       "      <td>871.894555</td>\n",
       "      <td>0.052880</td>\n",
       "    </tr>\n",
       "    <tr>\n",
       "      <th>5</th>\n",
       "      <td>86</td>\n",
       "      <td>201812</td>\n",
       "      <td>841.20</td>\n",
       "      <td>155</td>\n",
       "      <td>824.361363</td>\n",
       "      <td>0.020426</td>\n",
       "    </tr>\n",
       "    <tr>\n",
       "      <th>6</th>\n",
       "      <td>86</td>\n",
       "      <td>201901</td>\n",
       "      <td>841.40</td>\n",
       "      <td>155</td>\n",
       "      <td>848.418979</td>\n",
       "      <td>0.008273</td>\n",
       "    </tr>\n",
       "    <tr>\n",
       "      <th>7</th>\n",
       "      <td>86</td>\n",
       "      <td>201902</td>\n",
       "      <td>913.20</td>\n",
       "      <td>155</td>\n",
       "      <td>864.522060</td>\n",
       "      <td>0.056306</td>\n",
       "    </tr>\n",
       "    <tr>\n",
       "      <th>8</th>\n",
       "      <td>86</td>\n",
       "      <td>201903</td>\n",
       "      <td>1026.80</td>\n",
       "      <td>155</td>\n",
       "      <td>780.320405</td>\n",
       "      <td>0.315870</td>\n",
       "    </tr>\n",
       "    <tr>\n",
       "      <th>9</th>\n",
       "      <td>86</td>\n",
       "      <td>201904</td>\n",
       "      <td>848.20</td>\n",
       "      <td>155</td>\n",
       "      <td>819.317024</td>\n",
       "      <td>0.035253</td>\n",
       "    </tr>\n",
       "    <tr>\n",
       "      <th>10</th>\n",
       "      <td>86</td>\n",
       "      <td>201905</td>\n",
       "      <td>889.30</td>\n",
       "      <td>155</td>\n",
       "      <td>895.224622</td>\n",
       "      <td>0.006618</td>\n",
       "    </tr>\n",
       "    <tr>\n",
       "      <th>11</th>\n",
       "      <td>86</td>\n",
       "      <td>201906</td>\n",
       "      <td>838.00</td>\n",
       "      <td>155</td>\n",
       "      <td>831.539845</td>\n",
       "      <td>0.007769</td>\n",
       "    </tr>\n",
       "  </tbody>\n",
       "</table>\n",
       "</div>"
      ],
      "text/plain": [
       "    STORE_NBR_T MONTH_ID  TOT_SALES  STORE_NBR_C  controlSales  percentDiff\n",
       "0            86   201807     892.20          155    896.922236     0.005265\n",
       "1            86   201808     764.05          155    759.269991     0.006296\n",
       "2            86   201809     914.60          155    984.034086     0.070561\n",
       "3            86   201810     948.40          155    934.948790     0.014387\n",
       "4            86   201811     918.00          155    871.894555     0.052880\n",
       "5            86   201812     841.20          155    824.361363     0.020426\n",
       "6            86   201901     841.40          155    848.418979     0.008273\n",
       "7            86   201902     913.20          155    864.522060     0.056306\n",
       "8            86   201903    1026.80          155    780.320405     0.315870\n",
       "9            86   201904     848.20          155    819.317024     0.035253\n",
       "10           86   201905     889.30          155    895.224622     0.006618\n",
       "11           86   201906     838.00          155    831.539845     0.007769"
      ]
     },
     "execution_count": 120,
     "metadata": {},
     "output_type": "execute_result"
    }
   ],
   "source": [
    "pDiff"
   ]
  },
  {
   "cell_type": "code",
   "execution_count": 121,
   "id": "3be0d64a",
   "metadata": {},
   "outputs": [
    {
     "name": "stdout",
     "output_type": "stream",
     "text": [
      "Ttest_indResult(statistic=3.1048311203382156e-15, pvalue=0.9999999999999976)\n",
      "\n",
      "Critical t value for 95% confidence value\n",
      "[-2.44691185  2.44691185]\n"
     ]
    }
   ],
   "source": [
    "pDiffp = pDiff[pDiff['MONTH_ID']<'201902'].reset_index(drop=True)\n",
    "pDifft = pDiff[(pDiff['MONTH_ID']>'201901') & (pDiff['MONTH_ID']<'201905')].reset_index(drop=True)\n",
    "\n",
    "stdDev = (pDiffp['percentDiff']).std()\n",
    "\n",
    "print(stats.ttest_ind(pDiffp['TOT_SALES'],\n",
    "               pDiffp['controlSales']))\n",
    "print()\n",
    "print('Critical t value for 95% confidence value')\n",
    "alpha = 0.05\n",
    "print(stats.t.ppf((alpha/2, 1-alpha/2), df= len(pDiffp)-1))"
   ]
  },
  {
   "cell_type": "markdown",
   "id": "22f18f9f",
   "metadata": {},
   "source": [
    "Our null hypothesis is of there being 0 difference between trial and control stores"
   ]
  },
  {
   "cell_type": "code",
   "execution_count": 122,
   "id": "46706e82",
   "metadata": {},
   "outputs": [
    {
     "data": {
      "text/html": [
       "<div>\n",
       "<style scoped>\n",
       "    .dataframe tbody tr th:only-of-type {\n",
       "        vertical-align: middle;\n",
       "    }\n",
       "\n",
       "    .dataframe tbody tr th {\n",
       "        vertical-align: top;\n",
       "    }\n",
       "\n",
       "    .dataframe thead th {\n",
       "        text-align: right;\n",
       "    }\n",
       "</style>\n",
       "<table border=\"1\" class=\"dataframe\">\n",
       "  <thead>\n",
       "    <tr style=\"text-align: right;\">\n",
       "      <th></th>\n",
       "      <th>STORE_NBR_T</th>\n",
       "      <th>MONTH_ID</th>\n",
       "      <th>TOT_SALES</th>\n",
       "      <th>STORE_NBR_C</th>\n",
       "      <th>controlSales</th>\n",
       "      <th>percentDiff</th>\n",
       "      <th>t_value</th>\n",
       "      <th>test_stat</th>\n",
       "      <th>95th Percentile of t-distribution</th>\n",
       "    </tr>\n",
       "  </thead>\n",
       "  <tbody>\n",
       "    <tr>\n",
       "      <th>0</th>\n",
       "      <td>86</td>\n",
       "      <td>201902</td>\n",
       "      <td>913.2</td>\n",
       "      <td>155</td>\n",
       "      <td>864.522060</td>\n",
       "      <td>0.056306</td>\n",
       "      <td>3.104831e-15</td>\n",
       "      <td>1.194752</td>\n",
       "      <td>1.94318</td>\n",
       "    </tr>\n",
       "    <tr>\n",
       "      <th>1</th>\n",
       "      <td>86</td>\n",
       "      <td>201903</td>\n",
       "      <td>1026.8</td>\n",
       "      <td>155</td>\n",
       "      <td>780.320405</td>\n",
       "      <td>0.315870</td>\n",
       "      <td>3.104831e-15</td>\n",
       "      <td>11.242132</td>\n",
       "      <td>1.94318</td>\n",
       "    </tr>\n",
       "    <tr>\n",
       "      <th>2</th>\n",
       "      <td>86</td>\n",
       "      <td>201904</td>\n",
       "      <td>848.2</td>\n",
       "      <td>155</td>\n",
       "      <td>819.317024</td>\n",
       "      <td>0.035253</td>\n",
       "      <td>3.104831e-15</td>\n",
       "      <td>0.379790</td>\n",
       "      <td>1.94318</td>\n",
       "    </tr>\n",
       "  </tbody>\n",
       "</table>\n",
       "</div>"
      ],
      "text/plain": [
       "   STORE_NBR_T MONTH_ID  TOT_SALES  STORE_NBR_C  controlSales  percentDiff  \\\n",
       "0           86   201902      913.2          155    864.522060     0.056306   \n",
       "1           86   201903     1026.8          155    780.320405     0.315870   \n",
       "2           86   201904      848.2          155    819.317024     0.035253   \n",
       "\n",
       "        t_value  test_stat  95th Percentile of t-distribution  \n",
       "0  3.104831e-15   1.194752                            1.94318  \n",
       "1  3.104831e-15  11.242132                            1.94318  \n",
       "2  3.104831e-15   0.379790                            1.94318  "
      ]
     },
     "execution_count": 122,
     "metadata": {},
     "output_type": "execute_result"
    }
   ],
   "source": [
    "pDifft['t_value'] = stats.ttest_ind(pDiffp['TOT_SALES'],\n",
    "               pDiffp['controlSales']).statistic\n",
    "pDifft['test_stat'] = pDifft['percentDiff'].apply(lambda x : (x-pDiffp['percentDiff'].mean())/ pDiffp['percentDiff'].std())\n",
    "pDifft['95th Percentile of t-distribution'] = stats.t.ppf(0.95, df=len(pDiffp)-1)\n",
    "\n",
    "pDifft"
   ]
  },
  {
   "cell_type": "markdown",
   "id": "fa779db5",
   "metadata": {},
   "source": [
    "It is observed that the t-value is smaller than the 95th percentile value of the t-distribution for February and April - i.e. the increase in sales in the trial store in February and April is not statistically greater than in the control store"
   ]
  },
  {
   "cell_type": "code",
   "execution_count": 123,
   "id": "292e97b9",
   "metadata": {},
   "outputs": [],
   "source": [
    "ppSales = met[(met['Store_type'] =='Trial') | (met['Store_type'] =='Control')].reset_index(drop=True)\n",
    "ppSales = ppSales.groupby(['MONTH_ID', 'Store_type']).agg({\n",
    "    'TOT_SALES':'mean'\n",
    "}).reset_index()\n",
    "\n",
    "ppSales['TransactionMonth'] = pd.to_datetime(ppSales['MONTH_ID'], format='%Y%m')\n",
    "\n",
    "ppSales_95 = ppSales[ppSales['Store_type'] == 'Control']\n",
    "ppSales_95 = ppSales_95.assign(\n",
    "    TOT_SALES = lambda x : x.TOT_SALES * (1 + stdDev * 2),\n",
    "    Store_type = 'Control 95th % confidence interval').reset_index(drop=True)\n",
    "\n",
    "ppSales_5 = ppSales[ppSales['Store_type'] == 'Control']\n",
    "ppSales_5 = ppSales_5.assign(\n",
    "    TOT_SALES = lambda x : x.TOT_SALES * (1 - stdDev * 2),\n",
    "    Store_type = 'Control 5th % confidence interval').reset_index(drop=True)\n",
    "\n",
    "trialAssessment = ppSales.append([ppSales_95, ppSales_5], ignore_index=True)"
   ]
  },
  {
   "cell_type": "code",
   "execution_count": 124,
   "id": "a4e010f0",
   "metadata": {},
   "outputs": [
    {
     "data": {
      "text/plain": [
       "<matplotlib.legend.Legend at 0x1ca9472f340>"
      ]
     },
     "execution_count": 124,
     "metadata": {},
     "output_type": "execute_result"
    },
    {
     "data": {
      "image/png": "[encoded data removed]",
      "text/plain": [
       "<Figure size 1008x432 with 1 Axes>"
      ]
     },
     "metadata": {
      "needs_background": "light"
     },
     "output_type": "display_data"
    }
   ],
   "source": [
    "fig, axes = plt.subplots(figsize=(14,6))\n",
    "sns.barplot(\n",
    "    x='TransactionMonth',\n",
    "    y='TOT_SALES',\n",
    "    hue='Store_type',\n",
    "    data=trialAssessment[(trialAssessment['MONTH_ID']>'201901') & (\n",
    "        trialAssessment['MONTH_ID']<'201905')].reset_index(drop=True))\n",
    "plt.legend(bbox_to_anchor=(1,1))"
   ]
  },
  {
   "cell_type": "markdown",
   "id": "42cf4749",
   "metadata": {},
   "source": [
    "The results show that the trial in store 86 is significantly not different to its control store in the trial period as the trial store performance lies inside the 5% to 95% confidence interval of the control store in two of the three trial months i.e. in the months of February and April"
   ]
  },
  {
   "cell_type": "markdown",
   "id": "30677764",
   "metadata": {},
   "source": [
    "### Number of Customers"
   ]
  },
  {
   "cell_type": "code",
   "execution_count": 125,
   "id": "ea0bd5aa",
   "metadata": {},
   "outputs": [
    {
     "name": "stdout",
     "output_type": "stream",
     "text": [
      "Ttest_indResult(statistic=0.0, pvalue=1.0)\n",
      "\n",
      "Critical t value for 95% confidence value\n",
      "[-2.44691185  2.44691185]\n"
     ]
    },
    {
     "name": "stderr",
     "output_type": "stream",
     "text": [
      "C:\\Users\\queency\\AppData\\Local\\Temp/ipykernel_9968/806158278.py:5: SettingWithCopyWarning: \n",
      "A value is trying to be set on a copy of a slice from a DataFrame.\n",
      "Try using .loc[row_indexer,col_indexer] = value instead\n",
      "\n",
      "See the caveats in the documentation: https://pandas.pydata.org/pandas-docs/stable/user_guide/indexing.html#returning-a-view-versus-a-copy\n",
      "  scaledControlCust['controlCust'] = scaledControlCust.loc[:,'nCustomer'] * scalingFactorForControlCust\n"
     ]
    }
   ],
   "source": [
    "scalingFactorForControlCust = (rpretrial[rpretrial['STORE_NBR'] == 86]['nCustomer'].sum())/(\n",
    "    rpretrial[rpretrial['STORE_NBR'] == 155]['nCustomer'].sum())\n",
    "    \n",
    "scaledControlCust = met[met['STORE_NBR'] == 155]\n",
    "scaledControlCust['controlCust'] = scaledControlCust.loc[:,'nCustomer'] * scalingFactorForControlCust\n",
    "\n",
    "pDiff = met[met['STORE_NBR'] == 86][['STORE_NBR', 'MONTH_ID', 'nCustomer']].merge(\n",
    "    scaledControlCust[['STORE_NBR', 'MONTH_ID', 'controlCust']], on='MONTH_ID', suffixes=('_T', '_C'))\n",
    "\n",
    "pDiff['percentDiff'] = abs((pDiff['controlCust'] - pDiff['nCustomer']) / pDiff['controlCust'])\n",
    "\n",
    "pDiffp = pDiff[pDiff['MONTH_ID']<'201902'].reset_index(drop=True)\n",
    "pDifft = pDiff[(pDiff['MONTH_ID']>'201901') & (pDiff['MONTH_ID']<'201905')].reset_index(drop=True)\n",
    "\n",
    "stdDev = (pDiffp['percentDiff']).std()\n",
    "\n",
    "print(stats.ttest_ind(pDiffp['nCustomer'],\n",
    "               pDiffp['controlCust']))\n",
    "print()\n",
    "print('Critical t value for 95% confidence value')\n",
    "alpha = 0.05\n",
    "print(stats.t.ppf((alpha/2, 1-alpha/2), df= len(pDiffp)-1))"
   ]
  },
  {
   "cell_type": "markdown",
   "id": "ae5566e3",
   "metadata": {},
   "source": [
    "Our null hypothesis is of there being 0 difference between trial and control stores"
   ]
  },
  {
   "cell_type": "code",
   "execution_count": 126,
   "id": "73d62a3a",
   "metadata": {},
   "outputs": [
    {
     "data": {
      "text/html": [
       "<div>\n",
       "<style scoped>\n",
       "    .dataframe tbody tr th:only-of-type {\n",
       "        vertical-align: middle;\n",
       "    }\n",
       "\n",
       "    .dataframe tbody tr th {\n",
       "        vertical-align: top;\n",
       "    }\n",
       "\n",
       "    .dataframe thead th {\n",
       "        text-align: right;\n",
       "    }\n",
       "</style>\n",
       "<table border=\"1\" class=\"dataframe\">\n",
       "  <thead>\n",
       "    <tr style=\"text-align: right;\">\n",
       "      <th></th>\n",
       "      <th>STORE_NBR_T</th>\n",
       "      <th>MONTH_ID</th>\n",
       "      <th>nCustomer</th>\n",
       "      <th>STORE_NBR_C</th>\n",
       "      <th>controlCust</th>\n",
       "      <th>percentDiff</th>\n",
       "      <th>t_value</th>\n",
       "      <th>test_stat</th>\n",
       "      <th>95th Percentile of t-distribution</th>\n",
       "    </tr>\n",
       "  </thead>\n",
       "  <tbody>\n",
       "    <tr>\n",
       "      <th>0</th>\n",
       "      <td>86</td>\n",
       "      <td>201902</td>\n",
       "      <td>107</td>\n",
       "      <td>155</td>\n",
       "      <td>95.0</td>\n",
       "      <td>0.126316</td>\n",
       "      <td>0.0</td>\n",
       "      <td>10.441339</td>\n",
       "      <td>1.94318</td>\n",
       "    </tr>\n",
       "    <tr>\n",
       "      <th>1</th>\n",
       "      <td>86</td>\n",
       "      <td>201903</td>\n",
       "      <td>115</td>\n",
       "      <td>155</td>\n",
       "      <td>94.0</td>\n",
       "      <td>0.223404</td>\n",
       "      <td>0.0</td>\n",
       "      <td>19.525687</td>\n",
       "      <td>1.94318</td>\n",
       "    </tr>\n",
       "    <tr>\n",
       "      <th>2</th>\n",
       "      <td>86</td>\n",
       "      <td>201904</td>\n",
       "      <td>105</td>\n",
       "      <td>155</td>\n",
       "      <td>99.0</td>\n",
       "      <td>0.060606</td>\n",
       "      <td>0.0</td>\n",
       "      <td>4.293029</td>\n",
       "      <td>1.94318</td>\n",
       "    </tr>\n",
       "  </tbody>\n",
       "</table>\n",
       "</div>"
      ],
      "text/plain": [
       "   STORE_NBR_T MONTH_ID  nCustomer  STORE_NBR_C  controlCust  percentDiff  \\\n",
       "0           86   201902        107          155         95.0     0.126316   \n",
       "1           86   201903        115          155         94.0     0.223404   \n",
       "2           86   201904        105          155         99.0     0.060606   \n",
       "\n",
       "   t_value  test_stat  95th Percentile of t-distribution  \n",
       "0      0.0  10.441339                            1.94318  \n",
       "1      0.0  19.525687                            1.94318  \n",
       "2      0.0   4.293029                            1.94318  "
      ]
     },
     "execution_count": 126,
     "metadata": {},
     "output_type": "execute_result"
    }
   ],
   "source": [
    "pDifft['t_value'] = stats.ttest_ind(pDiffp['nCustomer'],\n",
    "               pDiffp['controlCust']).statistic\n",
    "pDifft['test_stat'] = pDifft['percentDiff'].apply(lambda x : (x-pDiffp['percentDiff'].mean())/ pDiffp['percentDiff'].std())\n",
    "pDifft['95th Percentile of t-distribution'] = stats.t.ppf(0.95, df=len(pDiffp)-1)\n",
    "\n",
    "pDifft"
   ]
  },
  {
   "cell_type": "markdown",
   "id": "1285632a",
   "metadata": {},
   "source": [
    "It is observed that the t-value is much larger than the 95th percentile value of the t-distribution for all the months - i.e. the increase in customers in the trial store in the trial period is statistically greater than in the control store"
   ]
  },
  {
   "cell_type": "code",
   "execution_count": 127,
   "id": "a379644f",
   "metadata": {},
   "outputs": [],
   "source": [
    "ppCust = met[(met['Store_type'] =='Trial') | (met['Store_type'] =='Control')].reset_index(drop=True)\n",
    "ppCust = ppCust.groupby(['MONTH_ID', 'Store_type']).agg({\n",
    "    'nCustomer':'mean'\n",
    "}).reset_index()\n",
    "\n",
    "ppCust['TransactionMonth'] = pd.to_datetime(ppCust['MONTH_ID'], format='%Y%m')\n",
    "\n",
    "ppCust_95 = ppCust[ppCust['Store_type'] == 'Control']\n",
    "ppCust_95 = ppCust_95.assign(\n",
    "    nCustomer = lambda x : x.nCustomer * (1 + stdDev * 2),\n",
    "    Store_type = 'Control 95th % confidence interval').reset_index(drop=True)\n",
    "\n",
    "ppCust_5 = ppCust[ppCust['Store_type'] == 'Control']\n",
    "ppCust_5 = ppCust_5.assign(\n",
    "    nCustomer = lambda x : x.nCustomer * (1 - stdDev * 2),\n",
    "    Store_type = 'Control 5th % confidence interval').reset_index(drop=True)\n",
    "\n",
    "trialAssessment = ppCust.append([ppCust_95, ppCust_5], ignore_index=True)"
   ]
  },
  {
   "cell_type": "code",
   "execution_count": 128,
   "id": "1b7a365c",
   "metadata": {},
   "outputs": [
    {
     "data": {
      "text/plain": [
       "<matplotlib.legend.Legend at 0x1ca987036d0>"
      ]
     },
     "execution_count": 128,
     "metadata": {},
     "output_type": "execute_result"
    },
    {
     "data": {
      "image/png": "[encoded data removed]",
      "text/plain": [
       "<Figure size 864x432 with 1 Axes>"
      ]
     },
     "metadata": {
      "needs_background": "light"
     },
     "output_type": "display_data"
    }
   ],
   "source": [
    "fig, axes = plt.subplots(figsize=(12,6))\n",
    "sns.barplot(\n",
    "    x='TransactionMonth',\n",
    "    y='nCustomer',\n",
    "    hue='Store_type',\n",
    "    data=trialAssessment[(trialAssessment['MONTH_ID']>'201901') & (\n",
    "        trialAssessment['MONTH_ID']<'201905')].reset_index(drop=True))\n",
    "\n",
    "plt.legend(bbox_to_anchor=(1,1))"
   ]
  },
  {
   "cell_type": "markdown",
   "id": "f5ed1fc5",
   "metadata": {},
   "source": [
    "It looks like the number of customers is significantly higher in all of the three months. This seems to suggest that the trial had a significant impact on increasing\n",
    "the number of customers in trial store 86 but as we saw, sales were not significantly higher"
   ]
  },
  {
   "cell_type": "markdown",
   "id": "49009b24",
   "metadata": {},
   "source": [
    "# Trial Store 88"
   ]
  },
  {
   "cell_type": "markdown",
   "id": "cfee23db",
   "metadata": {},
   "source": [
    "## Analysis"
   ]
  },
  {
   "cell_type": "code",
   "execution_count": 129,
   "id": "24ea8297",
   "metadata": {},
   "outputs": [
    {
     "name": "stderr",
     "output_type": "stream",
     "text": [
      "C:\\Users\\queency\\anaconda3\\lib\\site-packages\\pandas\\core\\frame.py:9186: FutureWarning: merging between different levels is deprecated and will be removed in a future version. (1 levels on the left,2 on the right)\n",
      "  return merge(\n"
     ]
    },
    {
     "data": {
      "text/html": [
       "<div>\n",
       "<style scoped>\n",
       "    .dataframe tbody tr th:only-of-type {\n",
       "        vertical-align: middle;\n",
       "    }\n",
       "\n",
       "    .dataframe tbody tr th {\n",
       "        vertical-align: top;\n",
       "    }\n",
       "\n",
       "    .dataframe thead th {\n",
       "        text-align: right;\n",
       "    }\n",
       "</style>\n",
       "<table border=\"1\" class=\"dataframe\">\n",
       "  <thead>\n",
       "    <tr style=\"text-align: right;\">\n",
       "      <th></th>\n",
       "      <th>Store 1</th>\n",
       "      <th>Store 2</th>\n",
       "      <th>score_NSales</th>\n",
       "      <th>score_NCustomer</th>\n",
       "      <th>Final_score</th>\n",
       "    </tr>\n",
       "  </thead>\n",
       "  <tbody>\n",
       "    <tr>\n",
       "      <th>82</th>\n",
       "      <td>88</td>\n",
       "      <td>88</td>\n",
       "      <td>1.000000</td>\n",
       "      <td>1.000000</td>\n",
       "      <td>1.000000</td>\n",
       "    </tr>\n",
       "    <tr>\n",
       "      <th>225</th>\n",
       "      <td>88</td>\n",
       "      <td>237</td>\n",
       "      <td>0.632277</td>\n",
       "      <td>0.967456</td>\n",
       "      <td>0.799867</td>\n",
       "    </tr>\n",
       "    <tr>\n",
       "      <th>170</th>\n",
       "      <td>88</td>\n",
       "      <td>178</td>\n",
       "      <td>0.713855</td>\n",
       "      <td>0.880310</td>\n",
       "      <td>0.797083</td>\n",
       "    </tr>\n",
       "    <tr>\n",
       "      <th>65</th>\n",
       "      <td>88</td>\n",
       "      <td>69</td>\n",
       "      <td>0.578920</td>\n",
       "      <td>0.842388</td>\n",
       "      <td>0.710654</td>\n",
       "    </tr>\n",
       "    <tr>\n",
       "      <th>106</th>\n",
       "      <td>88</td>\n",
       "      <td>113</td>\n",
       "      <td>0.589285</td>\n",
       "      <td>0.823346</td>\n",
       "      <td>0.706315</td>\n",
       "    </tr>\n",
       "    <tr>\n",
       "      <th>...</th>\n",
       "      <td>...</td>\n",
       "      <td>...</td>\n",
       "      <td>...</td>\n",
       "      <td>...</td>\n",
       "      <td>...</td>\n",
       "    </tr>\n",
       "    <tr>\n",
       "      <th>84</th>\n",
       "      <td>88</td>\n",
       "      <td>90</td>\n",
       "      <td>-0.240296</td>\n",
       "      <td>-0.090374</td>\n",
       "      <td>-0.165335</td>\n",
       "    </tr>\n",
       "    <tr>\n",
       "      <th>245</th>\n",
       "      <td>88</td>\n",
       "      <td>258</td>\n",
       "      <td>0.051069</td>\n",
       "      <td>-0.404039</td>\n",
       "      <td>-0.176485</td>\n",
       "    </tr>\n",
       "    <tr>\n",
       "      <th>133</th>\n",
       "      <td>88</td>\n",
       "      <td>141</td>\n",
       "      <td>-0.244703</td>\n",
       "      <td>-0.123792</td>\n",
       "      <td>-0.184248</td>\n",
       "    </tr>\n",
       "    <tr>\n",
       "      <th>227</th>\n",
       "      <td>88</td>\n",
       "      <td>239</td>\n",
       "      <td>-0.194453</td>\n",
       "      <td>-0.178185</td>\n",
       "      <td>-0.186319</td>\n",
       "    </tr>\n",
       "    <tr>\n",
       "      <th>39</th>\n",
       "      <td>88</td>\n",
       "      <td>42</td>\n",
       "      <td>-0.253374</td>\n",
       "      <td>-0.125578</td>\n",
       "      <td>-0.189476</td>\n",
       "    </tr>\n",
       "  </tbody>\n",
       "</table>\n",
       "<p>260 rows × 5 columns</p>\n",
       "</div>"
      ],
      "text/plain": [
       "     Store 1  Store 2  score_NSales  score_NCustomer  Final_score\n",
       "82        88       88      1.000000         1.000000     1.000000\n",
       "225       88      237      0.632277         0.967456     0.799867\n",
       "170       88      178      0.713855         0.880310     0.797083\n",
       "65        88       69      0.578920         0.842388     0.710654\n",
       "106       88      113      0.589285         0.823346     0.706315\n",
       "..       ...      ...           ...              ...          ...\n",
       "84        88       90     -0.240296        -0.090374    -0.165335\n",
       "245       88      258      0.051069        -0.404039    -0.176485\n",
       "133       88      141     -0.244703        -0.123792    -0.184248\n",
       "227       88      239     -0.194453        -0.178185    -0.186319\n",
       "39        88       42     -0.253374        -0.125578    -0.189476\n",
       "\n",
       "[260 rows x 5 columns]"
      ]
     },
     "execution_count": 129,
     "metadata": {},
     "output_type": "execute_result"
    }
   ],
   "source": [
    "corr_nSales = calCor(rpretrial,'TOT_SALES', 88)\n",
    "corr_nCustomers = calCor(rpretrial,'nCustomer', 88)\n",
    "\n",
    "magnitude_nSales = calcMag(rpretrial, 88, 'TOT_SALES')\n",
    "magnitude_nCustomer = calcMag(rpretrial, 88, 'nCustomer')\n",
    "\n",
    "score_nSales = corr_nSales.merge(magnitude_nSales)\n",
    "score_nSales = score_nSales.assign(\n",
    "    score_NSales = lambda x : (0.5 * x.corrMeasure) + (0.5 * x.magnitudeMeasure))\n",
    "score_nSales.drop(columns = ['corrMeasure', 'magnitudeMeasure'], inplace = True)\n",
    "\n",
    "score_nCustomer = corr_nCustomers.merge(magnitude_nCustomer)\n",
    "score_nCustomer = score_nCustomer.assign(\n",
    "    score_NCustomer = lambda x : (0.5 * x.corrMeasure) + (0.5 * x.magnitudeMeasure))\n",
    "score_nCustomer.drop(columns = ['corrMeasure', 'magnitudeMeasure'], inplace = True)\n",
    "\n",
    "score_control = score_nSales.merge(score_nCustomer, on = ['Store 1', 'Store 2'])\n",
    "score_control['Final_score'] = (0.5 * score_control.score_NSales) + (\n",
    "    0.5 * score_control.score_NCustomer)\n",
    "\n",
    "score_control.sort_values('Final_score', ascending=False)"
   ]
  },
  {
   "cell_type": "markdown",
   "id": "5a8cf15b",
   "metadata": {},
   "source": [
    "It is observed that store 237 is closest in terms of scores to store 88. Hence it'd be used as the control store for store 88"
   ]
  },
  {
   "cell_type": "code",
   "execution_count": 130,
   "id": "96897f1c",
   "metadata": {},
   "outputs": [],
   "source": [
    "met['Store_type'] = met['STORE_NBR'].apply(lambda x : stype(x, 88, 237))\n",
    "\n",
    "pastSales = met.groupby(['MONTH_ID', 'Store_type']).agg({\n",
    "    'TOT_SALES':'mean'\n",
    "}).reset_index()\n",
    "\n",
    "pastSales['TransactionMonth'] = pd.to_datetime(pastSales['MONTH_ID'], format='%Y%m')\n",
    "pastSales = pastSales[pastSales['MONTH_ID'] < '201903']"
   ]
  },
  {
   "cell_type": "code",
   "execution_count": 131,
   "id": "38b5dde7",
   "metadata": {},
   "outputs": [
    {
     "data": {
      "text/plain": [
       "Text(0.5, 1.0, 'Total Sales by Month')"
      ]
     },
     "execution_count": 131,
     "metadata": {},
     "output_type": "execute_result"
    },
    {
     "data": {
      "image/png": "[encoded data removed]",
      "text/plain": [
       "<Figure size 864x432 with 1 Axes>"
      ]
     },
     "metadata": {
      "needs_background": "light"
     },
     "output_type": "display_data"
    }
   ],
   "source": [
    "fig, ax = plt.subplots(figsize=(12,6))\n",
    "\n",
    "sns.lineplot(x='TransactionMonth', y='TOT_SALES', hue='Store_type', data = pastSales)\n",
    "ax.set_title('Total Sales by Month')"
   ]
  },
  {
   "cell_type": "code",
   "execution_count": 132,
   "id": "f20b67ad",
   "metadata": {},
   "outputs": [],
   "source": [
    "pastCustomers = met.groupby(['MONTH_ID', 'Store_type']).agg({\n",
    "    'nCustomer':'mean'\n",
    "}).reset_index()\n",
    "\n",
    "pastCustomers['TransactionMonth'] = pd.to_datetime(pastCustomers['MONTH_ID'], format='%Y%m')\n",
    "pastCustomers = pastCustomers[pastCustomers['MONTH_ID'] < '201903']"
   ]
  },
  {
   "cell_type": "code",
   "execution_count": 133,
   "id": "af660d2c",
   "metadata": {},
   "outputs": [
    {
     "data": {
      "text/plain": [
       "Text(0.5, 1.0, 'Number of Customers by Month')"
      ]
     },
     "execution_count": 133,
     "metadata": {},
     "output_type": "execute_result"
    },
    {
     "data": {
      "image/png": "[encoded data removed]",
      "text/plain": [
       "<Figure size 864x432 with 1 Axes>"
      ]
     },
     "metadata": {
      "needs_background": "light"
     },
     "output_type": "display_data"
    }
   ],
   "source": [
    "fig, ax = plt.subplots(figsize=(12,6))\n",
    "\n",
    "sns.lineplot(x='TransactionMonth', y='nCustomer', hue='Store_type', data = pastCustomers)\n",
    "ax.set_title('Number of Customers by Month')"
   ]
  },
  {
   "cell_type": "markdown",
   "id": "5c1f9e44",
   "metadata": {},
   "source": [
    "### Assessment of Trial"
   ]
  },
  {
   "cell_type": "code",
   "execution_count": 134,
   "id": "1f1f6c95",
   "metadata": {},
   "outputs": [
    {
     "name": "stderr",
     "output_type": "stream",
     "text": [
      "C:\\Users\\queency\\AppData\\Local\\Temp/ipykernel_9968/1522013055.py:5: SettingWithCopyWarning: \n",
      "A value is trying to be set on a copy of a slice from a DataFrame.\n",
      "Try using .loc[row_indexer,col_indexer] = value instead\n",
      "\n",
      "See the caveats in the documentation: https://pandas.pydata.org/pandas-docs/stable/user_guide/indexing.html#returning-a-view-versus-a-copy\n",
      "  scaledControlSales['controlSales'] = scaledControlSales.loc[:,'TOT_SALES'] * scalingFactorForControlSales\n"
     ]
    }
   ],
   "source": [
    "scalingFactorForControlSales = (rpretrial[rpretrial['STORE_NBR'] == 88]['TOT_SALES'].sum())/(\n",
    "    rpretrial[rpretrial['STORE_NBR'] == 237]['TOT_SALES'].sum())\n",
    "\n",
    "scaledControlSales = met[met['STORE_NBR'] == 237]\n",
    "scaledControlSales['controlSales'] = scaledControlSales.loc[:,'TOT_SALES'] * scalingFactorForControlSales\n",
    "\n",
    "pDiff = met[met['STORE_NBR'] == 88][['STORE_NBR', 'MONTH_ID', 'TOT_SALES']].merge(\n",
    "    scaledControlSales[['STORE_NBR', 'MONTH_ID', 'controlSales']], on='MONTH_ID', suffixes=('_T', '_C'))\n",
    "\n",
    "pDiff['percentDiff'] = abs((pDiff['controlSales'] - pDiff['TOT_SALES']) / pDiff['controlSales'])"
   ]
  },
  {
   "cell_type": "code",
   "execution_count": 135,
   "id": "28f572a7",
   "metadata": {},
   "outputs": [
    {
     "name": "stdout",
     "output_type": "stream",
     "text": [
      "Ttest_indResult(statistic=6.4562888442484815e-15, pvalue=0.999999999999995)\n",
      "\n",
      "Critical t value for 95% confidence value\n",
      "[-2.44691185  2.44691185]\n"
     ]
    }
   ],
   "source": [
    "pDiffp = pDiff[pDiff['MONTH_ID']<'201902'].reset_index(drop=True)\n",
    "pDifft = pDiff[(pDiff['MONTH_ID']>'201901') & (pDiff['MONTH_ID']<'201905')].reset_index(drop=True)\n",
    "\n",
    "stdDev = (pDiffp['percentDiff']).std()\n",
    "\n",
    "print(stats.ttest_ind(pDiffp['TOT_SALES'],\n",
    "               pDiffp['controlSales']))\n",
    "print()\n",
    "print('Critical t value for 95% confidence value')\n",
    "alpha = 0.05\n",
    "print(stats.t.ppf((alpha/2, 1-alpha/2), df= len(pDiffp)-1))"
   ]
  },
  {
   "cell_type": "markdown",
   "id": "15c3d9c9",
   "metadata": {},
   "source": [
    "Our null hypothesis is of there being 0 difference between trial and control stores"
   ]
  },
  {
   "cell_type": "code",
   "execution_count": 136,
   "id": "d9459a40",
   "metadata": {},
   "outputs": [
    {
     "data": {
      "text/html": [
       "<div>\n",
       "<style scoped>\n",
       "    .dataframe tbody tr th:only-of-type {\n",
       "        vertical-align: middle;\n",
       "    }\n",
       "\n",
       "    .dataframe tbody tr th {\n",
       "        vertical-align: top;\n",
       "    }\n",
       "\n",
       "    .dataframe thead th {\n",
       "        text-align: right;\n",
       "    }\n",
       "</style>\n",
       "<table border=\"1\" class=\"dataframe\">\n",
       "  <thead>\n",
       "    <tr style=\"text-align: right;\">\n",
       "      <th></th>\n",
       "      <th>STORE_NBR_T</th>\n",
       "      <th>MONTH_ID</th>\n",
       "      <th>TOT_SALES</th>\n",
       "      <th>STORE_NBR_C</th>\n",
       "      <th>controlSales</th>\n",
       "      <th>percentDiff</th>\n",
       "      <th>t_value</th>\n",
       "      <th>test_stat</th>\n",
       "      <th>95th Percentile of t-distribution</th>\n",
       "    </tr>\n",
       "  </thead>\n",
       "  <tbody>\n",
       "    <tr>\n",
       "      <th>0</th>\n",
       "      <td>88</td>\n",
       "      <td>201902</td>\n",
       "      <td>1370.2</td>\n",
       "      <td>237</td>\n",
       "      <td>1406.989143</td>\n",
       "      <td>0.026147</td>\n",
       "      <td>6.456289e-15</td>\n",
       "      <td>-0.505415</td>\n",
       "      <td>1.94318</td>\n",
       "    </tr>\n",
       "    <tr>\n",
       "      <th>1</th>\n",
       "      <td>88</td>\n",
       "      <td>201903</td>\n",
       "      <td>1477.2</td>\n",
       "      <td>237</td>\n",
       "      <td>1210.082775</td>\n",
       "      <td>0.220743</td>\n",
       "      <td>6.456289e-15</td>\n",
       "      <td>5.308983</td>\n",
       "      <td>1.94318</td>\n",
       "    </tr>\n",
       "    <tr>\n",
       "      <th>2</th>\n",
       "      <td>88</td>\n",
       "      <td>201904</td>\n",
       "      <td>1439.4</td>\n",
       "      <td>237</td>\n",
       "      <td>1206.477165</td>\n",
       "      <td>0.193060</td>\n",
       "      <td>6.456289e-15</td>\n",
       "      <td>4.481842</td>\n",
       "      <td>1.94318</td>\n",
       "    </tr>\n",
       "  </tbody>\n",
       "</table>\n",
       "</div>"
      ],
      "text/plain": [
       "   STORE_NBR_T MONTH_ID  TOT_SALES  STORE_NBR_C  controlSales  percentDiff  \\\n",
       "0           88   201902     1370.2          237   1406.989143     0.026147   \n",
       "1           88   201903     1477.2          237   1210.082775     0.220743   \n",
       "2           88   201904     1439.4          237   1206.477165     0.193060   \n",
       "\n",
       "        t_value  test_stat  95th Percentile of t-distribution  \n",
       "0  6.456289e-15  -0.505415                            1.94318  \n",
       "1  6.456289e-15   5.308983                            1.94318  \n",
       "2  6.456289e-15   4.481842                            1.94318  "
      ]
     },
     "execution_count": 136,
     "metadata": {},
     "output_type": "execute_result"
    }
   ],
   "source": [
    "pDifft['t_value'] = stats.ttest_ind(pDiffp['TOT_SALES'],\n",
    "               pDiffp['controlSales']).statistic\n",
    "pDifft['test_stat'] = pDifft['percentDiff'].apply(lambda x : (x-pDiffp['percentDiff'].mean())/ pDiffp['percentDiff'].std())\n",
    "pDifft['95th Percentile of t-distribution'] = stats.t.ppf(0.95, df=len(pDiffp)-1)\n",
    "\n",
    "pDifft"
   ]
  },
  {
   "cell_type": "markdown",
   "id": "b39b6ee5",
   "metadata": {},
   "source": [
    "It is observed that the t-value is much larger than the 95th percentile value of the t-distribution for March and April - i.e. the increase in sales in the trial store in March and April is statistically greater than in the control store"
   ]
  },
  {
   "cell_type": "code",
   "execution_count": 137,
   "id": "26a612b7",
   "metadata": {},
   "outputs": [],
   "source": [
    "ppSales = met[(met['Store_type'] =='Trial') | (met['Store_type'] =='Control')].reset_index(drop=True)\n",
    "ppSales = ppSales.groupby(['MONTH_ID', 'Store_type']).agg({\n",
    "    'TOT_SALES':'mean'\n",
    "}).reset_index()\n",
    "\n",
    "ppSales['TransactionMonth'] = pd.to_datetime(ppSales['MONTH_ID'], format='%Y%m')\n",
    "\n",
    "ppSales_95 = ppSales[ppSales['Store_type'] == 'Control']\n",
    "ppSales_95 = ppSales_95.assign(\n",
    "    TOT_SALES = lambda x : x.TOT_SALES * (1 + stdDev * 2),\n",
    "    Store_type = 'Control 95th % confidence interval').reset_index(drop=True)\n",
    "\n",
    "ppSales_5 = ppSales[ppSales['Store_type'] == 'Control']\n",
    "ppSales_5 = ppSales_5.assign(\n",
    "    TOT_SALES = lambda x : x.TOT_SALES * (1 - stdDev * 2),\n",
    "    Store_type = 'Control 5th % confidence interval').reset_index(drop=True)\n",
    "\n",
    "trialAssessment = ppSales.append([ppSales_95, ppSales_5], ignore_index=True)"
   ]
  },
  {
   "cell_type": "code",
   "execution_count": 138,
   "id": "611b834d",
   "metadata": {},
   "outputs": [
    {
     "data": {
      "text/plain": [
       "<matplotlib.legend.Legend at 0x1ca98b7be20>"
      ]
     },
     "execution_count": 138,
     "metadata": {},
     "output_type": "execute_result"
    },
    {
     "data": {
      "image/png": "[encoded data removed]",
      "text/plain": [
       "<Figure size 1008x432 with 1 Axes>"
      ]
     },
     "metadata": {
      "needs_background": "light"
     },
     "output_type": "display_data"
    }
   ],
   "source": [
    "fig, axes = plt.subplots(figsize=(14,6))\n",
    "sns.barplot(\n",
    "    x='TransactionMonth',\n",
    "    y='TOT_SALES',\n",
    "    hue='Store_type',\n",
    "    data=trialAssessment[(trialAssessment['MONTH_ID']>'201901') & (\n",
    "        trialAssessment['MONTH_ID']<'201905')].reset_index(drop=True))\n",
    "plt.legend(bbox_to_anchor=(1,1))"
   ]
  },
  {
   "cell_type": "markdown",
   "id": "f9b05664",
   "metadata": {},
   "source": [
    "The results show that the trial in store 88 is significantly different to its control store in the trial period as the trial store performance lies outside the 5% to 95% confidence interval of the control store in two of the three trial months i.e. in the months of March and April"
   ]
  },
  {
   "cell_type": "code",
   "execution_count": 139,
   "id": "9bcc90e4",
   "metadata": {},
   "outputs": [
    {
     "name": "stdout",
     "output_type": "stream",
     "text": [
      "Ttest_indResult(statistic=0.0, pvalue=1.0)\n",
      "\n",
      "Critical t value for 95% confidence value\n",
      "[-2.44691185  2.44691185]\n"
     ]
    },
    {
     "name": "stderr",
     "output_type": "stream",
     "text": [
      "C:\\Users\\queency\\AppData\\Local\\Temp/ipykernel_9968/2698178639.py:5: SettingWithCopyWarning: \n",
      "A value is trying to be set on a copy of a slice from a DataFrame.\n",
      "Try using .loc[row_indexer,col_indexer] = value instead\n",
      "\n",
      "See the caveats in the documentation: https://pandas.pydata.org/pandas-docs/stable/user_guide/indexing.html#returning-a-view-versus-a-copy\n",
      "  scaledControlCust['controlCust'] = scaledControlCust.loc[:,'nCustomer'] * scalingFactorForControlCust\n"
     ]
    }
   ],
   "source": [
    "scalingFactorForControlCust = (rpretrial[rpretrial['STORE_NBR'] == 88]['nCustomer'].sum())/(\n",
    "    rpretrial[rpretrial['STORE_NBR'] == 237]['nCustomer'].sum())\n",
    "    \n",
    "scaledControlCust = met[met['STORE_NBR'] == 237]\n",
    "scaledControlCust['controlCust'] = scaledControlCust.loc[:,'nCustomer'] * scalingFactorForControlCust\n",
    "\n",
    "pDiff = met[met['STORE_NBR'] == 88][['STORE_NBR', 'MONTH_ID', 'nCustomer']].merge(\n",
    "    scaledControlCust[['STORE_NBR', 'MONTH_ID', 'controlCust']], on='MONTH_ID', suffixes=('_T', '_C'))\n",
    "\n",
    "pDiff['percentDiff'] = abs((pDiff['controlCust'] - pDiff['nCustomer']) / pDiff['controlCust'])\n",
    "\n",
    "pDiffp = pDiff[pDiff['MONTH_ID']<'201902'].reset_index(drop=True)\n",
    "pDifft = pDiff[(pDiff['MONTH_ID']>'201901') & (pDiff['MONTH_ID']<'201905')].reset_index(drop=True)\n",
    "\n",
    "stdDev = (pDiffp['percentDiff']).std()\n",
    "\n",
    "print(stats.ttest_ind(pDiffp['nCustomer'],\n",
    "               pDiffp['controlCust']))\n",
    "print()\n",
    "print('Critical t value for 95% confidence value')\n",
    "alpha = 0.05\n",
    "print(stats.t.ppf((alpha/2, 1-alpha/2), df= len(pDiffp)-1))"
   ]
  },
  {
   "cell_type": "markdown",
   "id": "53e883d8",
   "metadata": {},
   "source": [
    "Our null hypothesis is of there being 0 difference between trial and control stores"
   ]
  },
  {
   "cell_type": "code",
   "execution_count": 140,
   "id": "e06ea27a",
   "metadata": {},
   "outputs": [
    {
     "data": {
      "text/html": [
       "<div>\n",
       "<style scoped>\n",
       "    .dataframe tbody tr th:only-of-type {\n",
       "        vertical-align: middle;\n",
       "    }\n",
       "\n",
       "    .dataframe tbody tr th {\n",
       "        vertical-align: top;\n",
       "    }\n",
       "\n",
       "    .dataframe thead th {\n",
       "        text-align: right;\n",
       "    }\n",
       "</style>\n",
       "<table border=\"1\" class=\"dataframe\">\n",
       "  <thead>\n",
       "    <tr style=\"text-align: right;\">\n",
       "      <th></th>\n",
       "      <th>STORE_NBR_T</th>\n",
       "      <th>MONTH_ID</th>\n",
       "      <th>nCustomer</th>\n",
       "      <th>STORE_NBR_C</th>\n",
       "      <th>controlCust</th>\n",
       "      <th>percentDiff</th>\n",
       "      <th>t_value</th>\n",
       "      <th>test_stat</th>\n",
       "      <th>95th Percentile of t-distribution</th>\n",
       "    </tr>\n",
       "  </thead>\n",
       "  <tbody>\n",
       "    <tr>\n",
       "      <th>0</th>\n",
       "      <td>88</td>\n",
       "      <td>201902</td>\n",
       "      <td>124</td>\n",
       "      <td>237</td>\n",
       "      <td>125.288136</td>\n",
       "      <td>0.010281</td>\n",
       "      <td>0.0</td>\n",
       "      <td>-0.362210</td>\n",
       "      <td>1.94318</td>\n",
       "    </tr>\n",
       "    <tr>\n",
       "      <th>1</th>\n",
       "      <td>88</td>\n",
       "      <td>201903</td>\n",
       "      <td>134</td>\n",
       "      <td>237</td>\n",
       "      <td>118.327684</td>\n",
       "      <td>0.132448</td>\n",
       "      <td>0.0</td>\n",
       "      <td>16.124027</td>\n",
       "      <td>1.94318</td>\n",
       "    </tr>\n",
       "    <tr>\n",
       "      <th>2</th>\n",
       "      <td>88</td>\n",
       "      <td>201904</td>\n",
       "      <td>128</td>\n",
       "      <td>237</td>\n",
       "      <td>119.322034</td>\n",
       "      <td>0.072727</td>\n",
       "      <td>0.0</td>\n",
       "      <td>8.064757</td>\n",
       "      <td>1.94318</td>\n",
       "    </tr>\n",
       "  </tbody>\n",
       "</table>\n",
       "</div>"
      ],
      "text/plain": [
       "   STORE_NBR_T MONTH_ID  nCustomer  STORE_NBR_C  controlCust  percentDiff  \\\n",
       "0           88   201902        124          237   125.288136     0.010281   \n",
       "1           88   201903        134          237   118.327684     0.132448   \n",
       "2           88   201904        128          237   119.322034     0.072727   \n",
       "\n",
       "   t_value  test_stat  95th Percentile of t-distribution  \n",
       "0      0.0  -0.362210                            1.94318  \n",
       "1      0.0  16.124027                            1.94318  \n",
       "2      0.0   8.064757                            1.94318  "
      ]
     },
     "execution_count": 140,
     "metadata": {},
     "output_type": "execute_result"
    }
   ],
   "source": [
    "pDifft['t_value'] = stats.ttest_ind(pDiffp['nCustomer'],\n",
    "               pDiffp['controlCust']).statistic\n",
    "pDifft['test_stat'] = pDifft['percentDiff'].apply(lambda x : (x-pDiffp['percentDiff'].mean())/ pDiffp['percentDiff'].std())\n",
    "pDifft['95th Percentile of t-distribution'] = stats.t.ppf(0.95, df=len(pDiffp)-1)\n",
    "\n",
    "pDifft"
   ]
  },
  {
   "cell_type": "markdown",
   "id": "9f3a05bb",
   "metadata": {},
   "source": [
    "The t-value is much larger than the 95th percentile value of the t-distribution for March and April - i.e. the increase in customers in the trial store in March and April is statistically greater than in the control store"
   ]
  },
  {
   "cell_type": "code",
   "execution_count": 141,
   "id": "427b3e1c",
   "metadata": {},
   "outputs": [],
   "source": [
    "ppCust = met[(met['Store_type'] =='Trial') | (met['Store_type'] =='Control')].reset_index(drop=True)\n",
    "ppCust = ppCust.groupby(['MONTH_ID', 'Store_type']).agg({\n",
    "    'nCustomer':'mean'\n",
    "}).reset_index()\n",
    "\n",
    "ppCust['TransactionMonth'] = pd.to_datetime(ppCust['MONTH_ID'], format='%Y%m')\n",
    "\n",
    "ppCust_95 = ppCust[ppCust['Store_type'] == 'Control']\n",
    "ppCust_95 = ppCust_95.assign(\n",
    "    nCustomer = lambda x : x.nCustomer * (1 + stdDev * 2),\n",
    "    Store_type = 'Control 95th % confidence interval').reset_index(drop=True)\n",
    "\n",
    "ppCust_5 = ppCust[ppCust['Store_type'] == 'Control']\n",
    "ppCust_5 = ppCust_5.assign(\n",
    "    nCustomer = lambda x : x.nCustomer * (1 - stdDev * 2),\n",
    "    Store_type = 'Control 5th % confidence interval').reset_index(drop=True)\n",
    "\n",
    "trialAssessment = ppCust.append([ppCust_95, ppCust_5], ignore_index=True)"
   ]
  },
  {
   "cell_type": "code",
   "execution_count": 142,
   "id": "434e41a0",
   "metadata": {},
   "outputs": [
    {
     "data": {
      "text/plain": [
       "<matplotlib.legend.Legend at 0x1ca98c37ca0>"
      ]
     },
     "execution_count": 142,
     "metadata": {},
     "output_type": "execute_result"
    },
    {
     "data": {
      "image/png": "[encoded data removed]",
      "text/plain": [
       "<Figure size 864x432 with 1 Axes>"
      ]
     },
     "metadata": {
      "needs_background": "light"
     },
     "output_type": "display_data"
    }
   ],
   "source": [
    "fig, axes = plt.subplots(figsize=(12,6))\n",
    "sns.barplot(\n",
    "    x='TransactionMonth',\n",
    "    y='nCustomer',\n",
    "    hue='Store_type',\n",
    "    data=trialAssessment[(trialAssessment['MONTH_ID']>'201901') & (\n",
    "        trialAssessment['MONTH_ID']<'201905')].reset_index(drop=True))\n",
    "\n",
    "plt.legend(bbox_to_anchor=(1,1))"
   ]
  },
  {
   "cell_type": "markdown",
   "id": "7ccb7c60",
   "metadata": {},
   "source": [
    "Total number of customers in the trial period for the trial store is significantly \n",
    "higher than the control store for two out of three months, which indicates a positive trial effect"
   ]
  },
  {
   "cell_type": "markdown",
   "id": "d4ed1593",
   "metadata": {},
   "source": [
    "# Conclusion"
   ]
  },
  {
   "cell_type": "markdown",
   "id": "52eb920d",
   "metadata": {},
   "source": [
    "Control stores 233, 155, 237 for trial stores 77, 86 and 88 respectively.\n",
    "The results for trial stores 77 and 88 during the trial period show a significant \n",
    "difference in at least two of the three trial months but this is not the case for \n",
    "trial store 86. We can check with the client if the implementation of the trial was\n",
    "different in trial store 86 but overall, the trial shows a significant increase in \n",
    "sales"
   ]
  }
 ],
 "metadata": {
  "kernelspec": {
   "display_name": "Python 3 (ipykernel)",
   "language": "python",
   "name": "python3"
  },
  "language_info": {
   "codemirror_mode": {
    "name": "ipython",
    "version": 3
   },
   "file_extension": ".py",
   "mimetype": "text/x-python",
   "name": "python",
   "nbconvert_exporter": "python",
   "pygments_lexer": "ipython3",
   "version": "3.8.11"
  }
 },
 "nbformat": 4,
 "nbformat_minor": 5
}
